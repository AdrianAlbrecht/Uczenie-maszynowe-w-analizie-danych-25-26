{
 "cells": [
  {
   "cell_type": "markdown",
   "metadata": {},
   "source": [
    "# Podstawy Pythona, NumPy i Pandas\n",
    "\n",
    "## Podstawy Pythona\n",
    "\n",
    "Python to wszechstronny język programowania, który jest szeroko stosowany w analizie danych i uczeniu maszynowym. Oferuje prostą składnię oraz bogaty ekosystem bibliotek.\n",
    "\n",
    "### Importowanie bibliotek\n",
    "\n",
    "Aby korzystać z dodatkowych funkcjonalności, w Pythonie importujemy biblioteki. W kontekście analizy danych najczęściej używane są NumPy i Pandas."
   ]
  },
  {
   "cell_type": "code",
   "execution_count": 301,
   "metadata": {},
   "outputs": [],
   "source": [
    "import numpy as np\n",
    "import pandas as pd"
   ]
  },
  {
   "cell_type": "markdown",
   "metadata": {},
   "source": [
    "### Podstawowe typy danych\n",
    "Python obsługuje kilka podstawowych typów danych:\n",
    "\n",
    "* int: Liczby całkowite (np. ````10````).\n",
    "* float: Liczby zmiennoprzecinkowe (np. ````10.5````).\n",
    "* str: Napisy (np. ````'Hello'````).\n",
    "* bool: Wartości logiczne (````True```` lub ````False````).\n",
    "* list: Lista, która jest zbiorem uporządkowanych elementów (np. ````[1, 2, 3]````).\n",
    "* tuple: Krotka, która jest zbiorem uporządkowanych, niemodyfikowalnych elementów (np. ````(1, 2, 3)````).\n",
    "* dict: Słownik, który przechowuje pary klucz-wartość (np. ````{'a': 1}````)."
   ]
  },
  {
   "cell_type": "code",
   "execution_count": 302,
   "metadata": {},
   "outputs": [],
   "source": [
    "# Typy danych w Pythonie\n",
    "a = 10              # int\n",
    "b = 10.5            # float\n",
    "c = 'Hello'         # str\n",
    "d = True            # bool\n",
    "e = [1, 2, 3]       # list\n",
    "f = (1, 2, 3)       # tuple\n",
    "g = { 'a': 1, 'b': [1, 2, 3], \"c\": \"Hello\"}      # dict\n"
   ]
  },
  {
   "cell_type": "code",
   "execution_count": 303,
   "metadata": {},
   "outputs": [
    {
     "data": {
      "text/plain": [
       "10"
      ]
     },
     "execution_count": 303,
     "metadata": {},
     "output_type": "execute_result"
    }
   ],
   "source": [
    "a"
   ]
  },
  {
   "cell_type": "code",
   "execution_count": 304,
   "metadata": {},
   "outputs": [
    {
     "data": {
      "text/plain": [
       "10.5"
      ]
     },
     "execution_count": 304,
     "metadata": {},
     "output_type": "execute_result"
    }
   ],
   "source": [
    "b"
   ]
  },
  {
   "cell_type": "code",
   "execution_count": 305,
   "metadata": {},
   "outputs": [
    {
     "data": {
      "text/plain": [
       "'Hello'"
      ]
     },
     "execution_count": 305,
     "metadata": {},
     "output_type": "execute_result"
    }
   ],
   "source": [
    "c"
   ]
  },
  {
   "cell_type": "code",
   "execution_count": 306,
   "metadata": {},
   "outputs": [
    {
     "data": {
      "text/plain": [
       "True"
      ]
     },
     "execution_count": 306,
     "metadata": {},
     "output_type": "execute_result"
    }
   ],
   "source": [
    "d"
   ]
  },
  {
   "cell_type": "code",
   "execution_count": 307,
   "metadata": {},
   "outputs": [
    {
     "data": {
      "text/plain": [
       "[1, 2, 3]"
      ]
     },
     "execution_count": 307,
     "metadata": {},
     "output_type": "execute_result"
    }
   ],
   "source": [
    "e"
   ]
  },
  {
   "cell_type": "code",
   "execution_count": 308,
   "metadata": {},
   "outputs": [
    {
     "data": {
      "text/plain": [
       "(1, 2, 3)"
      ]
     },
     "execution_count": 308,
     "metadata": {},
     "output_type": "execute_result"
    }
   ],
   "source": [
    "f"
   ]
  },
  {
   "cell_type": "code",
   "execution_count": 309,
   "metadata": {},
   "outputs": [
    {
     "data": {
      "text/plain": [
       "{'a': 1, 'b': [1, 2, 3], 'c': 'Hello'}"
      ]
     },
     "execution_count": 309,
     "metadata": {},
     "output_type": "execute_result"
    }
   ],
   "source": [
    "g"
   ]
  },
  {
   "cell_type": "code",
   "execution_count": 310,
   "metadata": {},
   "outputs": [
    {
     "data": {
      "text/plain": [
       "True"
      ]
     },
     "execution_count": 310,
     "metadata": {},
     "output_type": "execute_result"
    }
   ],
   "source": [
    "d == 1"
   ]
  },
  {
   "cell_type": "code",
   "execution_count": 311,
   "metadata": {},
   "outputs": [
    {
     "data": {
      "text/plain": [
       "False"
      ]
     },
     "execution_count": 311,
     "metadata": {},
     "output_type": "execute_result"
    }
   ],
   "source": [
    "d == 0"
   ]
  },
  {
   "cell_type": "code",
   "execution_count": 312,
   "metadata": {},
   "outputs": [
    {
     "data": {
      "text/plain": [
       "False"
      ]
     },
     "execution_count": 312,
     "metadata": {},
     "output_type": "execute_result"
    }
   ],
   "source": [
    "e == f"
   ]
  },
  {
   "cell_type": "code",
   "execution_count": 313,
   "metadata": {},
   "outputs": [
    {
     "data": {
      "text/plain": [
       "False"
      ]
     },
     "execution_count": 313,
     "metadata": {},
     "output_type": "execute_result"
    }
   ],
   "source": [
    "e == [3, 2, 1]"
   ]
  },
  {
   "cell_type": "code",
   "execution_count": 314,
   "metadata": {},
   "outputs": [
    {
     "data": {
      "text/plain": [
       "False"
      ]
     },
     "execution_count": 314,
     "metadata": {},
     "output_type": "execute_result"
    }
   ],
   "source": [
    "f == (3, 2, 1)"
   ]
  },
  {
   "cell_type": "code",
   "execution_count": 315,
   "metadata": {},
   "outputs": [
    {
     "data": {
      "text/plain": [
       "'H'"
      ]
     },
     "execution_count": 315,
     "metadata": {},
     "output_type": "execute_result"
    }
   ],
   "source": [
    "c[0]"
   ]
  },
  {
   "cell_type": "code",
   "execution_count": 316,
   "metadata": {},
   "outputs": [
    {
     "data": {
      "text/plain": [
       "'Hell'"
      ]
     },
     "execution_count": 316,
     "metadata": {},
     "output_type": "execute_result"
    }
   ],
   "source": [
    "c[:-1]"
   ]
  },
  {
   "cell_type": "code",
   "execution_count": 317,
   "metadata": {},
   "outputs": [
    {
     "data": {
      "text/plain": [
       "3"
      ]
     },
     "execution_count": 317,
     "metadata": {},
     "output_type": "execute_result"
    }
   ],
   "source": [
    "e[2]"
   ]
  },
  {
   "cell_type": "code",
   "execution_count": 318,
   "metadata": {},
   "outputs": [
    {
     "data": {
      "text/plain": [
       "[[1, 2, 3], [4, 5, 6]]"
      ]
     },
     "execution_count": 318,
     "metadata": {},
     "output_type": "execute_result"
    }
   ],
   "source": [
    "h = [[1, 2, 3], [4, 5, 6]]\n",
    "h"
   ]
  },
  {
   "cell_type": "code",
   "execution_count": 319,
   "metadata": {},
   "outputs": [
    {
     "data": {
      "text/plain": [
       "[4, 5, 6]"
      ]
     },
     "execution_count": 319,
     "metadata": {},
     "output_type": "execute_result"
    }
   ],
   "source": [
    "h[1]"
   ]
  },
  {
   "cell_type": "code",
   "execution_count": 320,
   "metadata": {},
   "outputs": [
    {
     "data": {
      "text/plain": [
       "6"
      ]
     },
     "execution_count": 320,
     "metadata": {},
     "output_type": "execute_result"
    }
   ],
   "source": [
    "h[1][2]"
   ]
  },
  {
   "cell_type": "markdown",
   "metadata": {},
   "source": [
    "### Operacje na listach\n",
    "\n",
    "Listy w Pythonie są bardzo elastyczne i oferują wiele przydatnych metod."
   ]
  },
  {
   "cell_type": "markdown",
   "metadata": {},
   "source": [
    "Oto lista najważniejszych operacji na listach w Pythonie:\n",
    "\n",
    "1. **Tworzenie listy:**\n",
    "   - Tworzenie listy za pomocą nawiasów kwadratowych `[]`, opcjonalnie z elementami początkowymi.\n",
    "\n",
    "2. **Dostęp do elementów:**\n",
    "   - Uzyskiwanie elementu listy za pomocą indeksów (od zera).\n",
    "   - Używanie ujemnych indeksów do dostępu od końca listy.\n",
    "\n",
    "3. **Modyfikacja elementów:**\n",
    "   - Przypisanie nowej wartości do istniejącego indeksu listy.\n",
    "\n",
    "4. **Dodawanie elementów:**\n",
    "   - **`append()`**: Dodaje pojedynczy element na końcu listy.\n",
    "   - **`extend()`**: Dodaje wiele elementów (innej listy lub iterowalnego obiektu) na końcu listy.\n",
    "   - **`insert()`**: Wstawia element na określonej pozycji (indeksie).\n",
    "\n",
    "5. **Usuwanie elementów:**\n",
    "   - **`remove()`**: Usuwa pierwszy napotkany element o podanej wartości.\n",
    "   - **`pop()`**: Usuwa i zwraca element na podanym indeksie (lub ostatni, jeśli nie podano indeksu).\n",
    "   - **`clear()`**: Usuwa wszystkie elementy z listy.\n",
    "\n",
    "6. **Sprawdzanie obecności elementu:**\n",
    "   - **`in`**: Sprawdza, czy dany element znajduje się w liście.\n",
    "\n",
    "7. **Długość listy:**\n",
    "   - **`len()`**: Zwraca liczbę elementów w liście.\n",
    "\n",
    "8. **Slicing (wycinanie fragmentów):**\n",
    "   - Pobieranie fragmentu listy za pomocą operatora `:` (od początku, do końca, lub od jednego indeksu do innego).\n",
    "\n",
    "9. **Sortowanie:**\n",
    "   - **`sort()`**: Sortuje listę w miejscu (mutuje oryginalną listę).\n",
    "   - **`sorted()`**: Zwraca nową, posortowaną wersję listy, nie zmieniając oryginału.\n",
    "   - **`reverse()`**: Odwraca kolejność elementów w liście.\n",
    "\n",
    "10. **Kopiowanie listy:**\n",
    "    - **`copy()`**: Tworzy płytką kopię listy.\n",
    "\n",
    "11. **Iterowanie po liście:**\n",
    "    - Można iterować po elementach listy za pomocą pętli (np. `for`).\n",
    "\n",
    "12. **Zagnieżdżone listy:**\n",
    "    - Listy mogą zawierać inne listy, tworząc struktury wielowymiarowe."
   ]
  },
  {
   "cell_type": "code",
   "execution_count": 321,
   "metadata": {},
   "outputs": [
    {
     "name": "stdout",
     "output_type": "stream",
     "text": [
      "1\n"
     ]
    },
    {
     "data": {
      "text/plain": [
       "[1, 2, 3, 4]"
      ]
     },
     "execution_count": 321,
     "metadata": {},
     "output_type": "execute_result"
    }
   ],
   "source": [
    "my_list = [1, 2, 3]\n",
    "my_list.append(4)  # Dodaje 4 do listy\n",
    "print(my_list[0])  # Dostęp do pierwszego elementu (1)\n",
    "my_list"
   ]
  },
  {
   "cell_type": "code",
   "execution_count": 322,
   "metadata": {},
   "outputs": [
    {
     "data": {
      "text/plain": [
       "[1, 2, 3, 4, 5, 6, 7, 8]"
      ]
     },
     "execution_count": 322,
     "metadata": {},
     "output_type": "execute_result"
    }
   ],
   "source": [
    "my_list.extend([5, 6, 7, 8])\n",
    "my_list"
   ]
  },
  {
   "cell_type": "code",
   "execution_count": 323,
   "metadata": {},
   "outputs": [
    {
     "data": {
      "text/plain": [
       "[1, 2, 3, 4, 6, 7, 8]"
      ]
     },
     "execution_count": 323,
     "metadata": {},
     "output_type": "execute_result"
    }
   ],
   "source": [
    "my_list.remove(5)\n",
    "my_list"
   ]
  },
  {
   "cell_type": "code",
   "execution_count": 324,
   "metadata": {},
   "outputs": [
    {
     "data": {
      "text/plain": [
       "[1, 2, 3, 4, 5, 6, 7, 8]"
      ]
     },
     "execution_count": 324,
     "metadata": {},
     "output_type": "execute_result"
    }
   ],
   "source": [
    "my_list.insert(4,5)\n",
    "my_list"
   ]
  },
  {
   "cell_type": "code",
   "execution_count": 325,
   "metadata": {},
   "outputs": [
    {
     "data": {
      "text/plain": [
       "8"
      ]
     },
     "execution_count": 325,
     "metadata": {},
     "output_type": "execute_result"
    }
   ],
   "source": [
    "len(my_list)"
   ]
  },
  {
   "cell_type": "markdown",
   "metadata": {},
   "source": [
    "### Pętle i instrukcje warunkowe\n",
    "W Pythonie można korzystać z pętli for oraz while, a także z instrukcji warunkowych if."
   ]
  },
  {
   "cell_type": "markdown",
   "metadata": {},
   "source": [
    "#### Pętle:\n",
    "\n",
    "1. **`for`**:\n",
    "   - Iteruje po elementach iterowalnego obiektu (takiego jak lista, krotka, słownik, czy string).\n",
    "   - Powtarza blok kodu dla każdego elementu w sekwencji.\n",
    "\n",
    "2. **`while`**:\n",
    "   - Powtarza blok kodu, dopóki warunek logiczny jest spełniony (True).\n",
    "   - Może powodować nieskończoną pętlę, jeśli warunek nigdy nie stanie się False.\n",
    "\n",
    "3. **`break`**:\n",
    "   - Natychmiast przerywa wykonywanie pętli, bez względu na to, czy warunek pętli (dla `while`) jest wciąż spełniony lub czy elementy do iteracji wciąż istnieją (dla `for`).\n",
    "\n",
    "4. **`continue`**:\n",
    "   - Pomija pozostałe instrukcje w aktualnej iteracji i przechodzi do następnej iteracji pętli.\n",
    "\n",
    "5. **`else` w pętli**:\n",
    "   - Blok `else` wykonywany jest po zakończeniu pętli, o ile nie zakończono jej instrukcją `break`.\n",
    "\n",
    "6. **`pass`**:\n",
    "   - Zastępuje blok kodu, który musi być składniowo poprawny, ale jeszcze nie jest zaimplementowany. Jest to \"pusta\" instrukcja, która nie robi nic."
   ]
  },
  {
   "cell_type": "code",
   "execution_count": 326,
   "metadata": {},
   "outputs": [
    {
     "name": "stdout",
     "output_type": "stream",
     "text": [
      "0\n",
      "1\n",
      "2\n",
      "3\n",
      "4\n"
     ]
    }
   ],
   "source": [
    "for i in range(5):\n",
    "    print(i)"
   ]
  },
  {
   "cell_type": "code",
   "execution_count": 327,
   "metadata": {},
   "outputs": [
    {
     "name": "stdout",
     "output_type": "stream",
     "text": [
      "3\n",
      "4\n"
     ]
    }
   ],
   "source": [
    "for i in range(3,5):\n",
    "    print(i)"
   ]
  },
  {
   "cell_type": "code",
   "execution_count": 328,
   "metadata": {},
   "outputs": [
    {
     "name": "stdout",
     "output_type": "stream",
     "text": [
      "3\n",
      "5\n",
      "7\n",
      "9\n"
     ]
    }
   ],
   "source": [
    "for i in range(3,10,2):\n",
    "    print(i)"
   ]
  },
  {
   "cell_type": "code",
   "execution_count": 329,
   "metadata": {},
   "outputs": [
    {
     "name": "stdout",
     "output_type": "stream",
     "text": [
      "1\n",
      "2\n",
      "3\n",
      "4\n",
      "5\n",
      "6\n",
      "7\n",
      "8\n"
     ]
    }
   ],
   "source": [
    "for i in my_list:\n",
    "    print(i)"
   ]
  },
  {
   "cell_type": "code",
   "execution_count": 330,
   "metadata": {},
   "outputs": [
    {
     "name": "stdout",
     "output_type": "stream",
     "text": [
      "1\n",
      "2\n",
      "3\n"
     ]
    }
   ],
   "source": [
    "for i in f:\n",
    "    print(i)"
   ]
  },
  {
   "cell_type": "code",
   "execution_count": 331,
   "metadata": {},
   "outputs": [
    {
     "name": "stdout",
     "output_type": "stream",
     "text": [
      "Klucz: a\n",
      "Wartość: 1\n",
      "Klucz: b\n",
      "Wartość: [1, 2, 3]\n",
      "Klucz: c\n",
      "Wartość: Hello\n"
     ]
    }
   ],
   "source": [
    "for key, value in g.items():\n",
    "    print(f\"Klucz: {key}\\nWartość: {value}\")"
   ]
  },
  {
   "cell_type": "markdown",
   "metadata": {},
   "source": [
    "#### Instrukcje warunkowe:\n",
    "\n",
    "1. **`if`**:\n",
    "   - Sprawdza warunek logiczny; jeśli warunek jest True, wykonuje się blok kodu.\n",
    "\n",
    "2. **`elif`**:\n",
    "   - Sprawdza dodatkowy warunek, jeśli poprzedni warunek w `if` lub wcześniejszym `elif` był False. Może być używany wielokrotnie.\n",
    "\n",
    "3. **`else`**:\n",
    "   - Wykonuje blok kodu, jeśli wszystkie poprzednie warunki w `if` i `elif` były False. Jest to \"domyślna\" akcja na wypadek, gdy żaden warunek nie jest spełniony.\n",
    "\n",
    "4. **Zagnieżdżone warunki**:\n",
    "   - Instrukcje warunkowe mogą być zagnieżdżane, czyli jedna instrukcja `if`, `elif`, lub `else` może być wewnątrz innej instrukcji `if` lub pętli, pozwalając na bardziej złożone warunki.\n",
    "\n",
    "5. **`ternary operator` (skrócona forma `if`):**\n",
    "   - Skrócona składnia `if`, która zwraca wartość w zależności od tego, czy warunek jest True, czy False.\n",
    "   - Używa składni: `wartość_jeśli_true if warunek else wartość_jeśli_false`.\n"
   ]
  },
  {
   "cell_type": "code",
   "execution_count": 332,
   "metadata": {},
   "outputs": [
    {
     "name": "stdout",
     "output_type": "stream",
     "text": [
      "a jest równe b\n"
     ]
    }
   ],
   "source": [
    "a = 16.0\n",
    "b = 16\n",
    "\n",
    "if a > b:\n",
    "    print('a jest większe niż b')\n",
    "elif a == b:\n",
    "    print('a jest równe b')\n",
    "else:\n",
    "    print('b jest większe niż a')"
   ]
  },
  {
   "cell_type": "code",
   "execution_count": 333,
   "metadata": {},
   "outputs": [
    {
     "name": "stdout",
     "output_type": "stream",
     "text": [
      "a jest większe lub równe b\n"
     ]
    }
   ],
   "source": [
    "print(\"a jest większe lub równe b\") if a >= b else print(\"b jest większe a\")"
   ]
  },
  {
   "cell_type": "markdown",
   "metadata": {},
   "source": [
    "### Warto pamiętać"
   ]
  },
  {
   "cell_type": "markdown",
   "metadata": {},
   "source": [
    "W python istnieje też wiele operatorów, które uławtaiją nam prace z danymi numerycznymi (i nie tylko) jak chociażby operator potęgi czy dzielenia całkowitego lub reszty z dzielenia (modulo)."
   ]
  },
  {
   "cell_type": "code",
   "execution_count": 334,
   "metadata": {},
   "outputs": [
    {
     "data": {
      "text/plain": [
       "256.0"
      ]
     },
     "execution_count": 334,
     "metadata": {},
     "output_type": "execute_result"
    }
   ],
   "source": [
    "a**2"
   ]
  },
  {
   "cell_type": "code",
   "execution_count": 335,
   "metadata": {},
   "outputs": [
    {
     "data": {
      "text/plain": [
       "5.333333333333333"
      ]
     },
     "execution_count": 335,
     "metadata": {},
     "output_type": "execute_result"
    }
   ],
   "source": [
    "a/3"
   ]
  },
  {
   "cell_type": "code",
   "execution_count": 336,
   "metadata": {},
   "outputs": [
    {
     "data": {
      "text/plain": [
       "1.0"
      ]
     },
     "execution_count": 336,
     "metadata": {},
     "output_type": "execute_result"
    }
   ],
   "source": [
    "a%3"
   ]
  },
  {
   "cell_type": "code",
   "execution_count": 337,
   "metadata": {},
   "outputs": [
    {
     "data": {
      "text/plain": [
       "5.0"
      ]
     },
     "execution_count": 337,
     "metadata": {},
     "output_type": "execute_result"
    }
   ],
   "source": [
    "a//3"
   ]
  },
  {
   "cell_type": "code",
   "execution_count": 338,
   "metadata": {},
   "outputs": [
    {
     "data": {
      "text/plain": [
       "False"
      ]
     },
     "execution_count": 338,
     "metadata": {},
     "output_type": "execute_result"
    }
   ],
   "source": [
    "a != b"
   ]
  },
  {
   "cell_type": "markdown",
   "metadata": {},
   "source": [
    "### Inkrementacja i dekrementacja"
   ]
  },
  {
   "cell_type": "code",
   "execution_count": 339,
   "metadata": {},
   "outputs": [
    {
     "name": "stdout",
     "output_type": "stream",
     "text": [
      "0.0\n",
      "1.0\n",
      "2.0\n",
      "3.0\n",
      "4.0\n",
      "5.0\n",
      "6.0\n",
      "7.0\n",
      "8.0\n",
      "9.0\n",
      "10.0\n",
      "11.0\n",
      "12.0\n",
      "13.0\n",
      "14.0\n",
      "15.0\n"
     ]
    }
   ],
   "source": [
    "c = 0.0\n",
    "while(c < a):\n",
    "    print(c)\n",
    "    c+=1"
   ]
  },
  {
   "cell_type": "code",
   "execution_count": 340,
   "metadata": {},
   "outputs": [
    {
     "name": "stdout",
     "output_type": "stream",
     "text": [
      "5\n",
      "4\n"
     ]
    }
   ],
   "source": [
    "c = 5\n",
    "print(c)\n",
    "c-=1\n",
    "print(c)"
   ]
  },
  {
   "cell_type": "markdown",
   "metadata": {},
   "source": [
    "### Łączenie list"
   ]
  },
  {
   "cell_type": "markdown",
   "metadata": {},
   "source": [
    "Listy w python można dowolnie łączyć ze sobą."
   ]
  },
  {
   "cell_type": "code",
   "execution_count": 341,
   "metadata": {},
   "outputs": [
    {
     "name": "stdout",
     "output_type": "stream",
     "text": [
      "**********\n",
      "****  ****\n",
      "***    ***\n",
      "**      **\n",
      "*        *\n",
      "*        *\n",
      "**      **\n",
      "***    ***\n",
      "****  ****\n",
      "**********\n"
     ]
    }
   ],
   "source": [
    "for x in list(range(5,0,-1)) + list(range(1,6)):\n",
    "    print(\"*\" * x, \" \" * ((5-x)*2), \"*\" * x, sep= \"\")"
   ]
  },
  {
   "cell_type": "markdown",
   "metadata": {},
   "source": [
    "### Funkcje:\n",
    "\n",
    "1. **Definiowanie funkcji**:\n",
    "   - Funkcje w Pythonie definiuje się za pomocą słowa kluczowego **`def`**. Po nim następuje nazwa funkcji oraz lista argumentów w nawiasach.\n",
    "   - Blok kodu wewnątrz funkcji jest wcięty.\n",
    "\n",
    "2. **Argumenty pozycyjne**:\n",
    "   - Są to argumenty, które należy podać w odpowiedniej kolejności podczas wywoływania funkcji. Liczba podanych argumentów musi zgadzać się z liczbą argumentów w definicji funkcji.\n",
    "\n",
    "3. **Argumenty domyślne**:\n",
    "   - Można ustawić wartości domyślne dla argumentów. Jeśli argument nie zostanie podany podczas wywołania funkcji, zostanie użyta wartość domyślna.\n",
    "\n",
    "4. **Argumenty nazwane**:\n",
    "   - Podczas wywoływania funkcji można użyć nazw argumentów, co pozwala na przekazywanie argumentów w dowolnej kolejności.\n",
    "\n",
    "5. **Zwracanie wartości**:\n",
    "   - Funkcja może zwracać wynik za pomocą słowa kluczowego **`return`**. Może zwracać jedną lub więcej wartości. Jeśli nie użyjemy `return`, funkcja domyślnie zwraca `None`.\n",
    "\n",
    "6. **Zmienne lokalne**:\n",
    "   - Zmienne definiowane wewnątrz funkcji są lokalne, co oznacza, że są dostępne tylko wewnątrz tej funkcji i nie wpływają na zmienne globalne o tej samej nazwie.\n",
    "\n",
    "7. **Zmienne globalne**:\n",
    "   - Aby użyć zmiennej globalnej (zdefiniowanej poza funkcją) wewnątrz funkcji, należy zadeklarować ją jako globalną za pomocą słowa kluczowego **`global`**.\n",
    "\n",
    "8. **Funkcje z argumentami o zmiennej długości**:\n",
    "   - **`*args`**: Pozwala na przekazanie dowolnej liczby argumentów pozycyjnych jako krotki.\n",
    "   - **`**kwargs`**: Pozwala na przekazanie dowolnej liczby argumentów nazwanych jako słownik.\n",
    "\n",
    "9. **Rekurencja**:\n",
    "   - Funkcja może wywoływać samą siebie. Jest to przydatne do rozwiązywania problemów, które można rozłożyć na mniejsze, takie same problemy (np. obliczanie silni).\n",
    "\n",
    "10. **Funkcje anonimowe (lambda)**:\n",
    "    - **`lambda`**: Jest to funkcja anonimowa (jednolinijkowa), która nie wymaga użycia `def`. Używana głównie dla prostych operacji, gdzie funkcja jest potrzebna jednorazowo.\n",
    "\n",
    "11. **Zasięg zmiennych w funkcjach (LEGB rule)**:\n",
    "    - Python stosuje zasadę LEGB, czyli:\n",
    "      - **L (Local)** – lokalny zasięg wewnątrz bieżącej funkcji.\n",
    "      - **E (Enclosing)** – zasięg zamknięcia (funkcje wewnątrz innych funkcji).\n",
    "      - **G (Global)** – zasięg globalny (na poziomie modułu).\n",
    "      - **B (Built-in)** – wbudowane zasięgi Pythona (np. funkcje `print()` czy `len()`).\n",
    "\n",
    "12. **Dekoratory**:\n",
    "    - Są to specjalne funkcje, które modyfikują zachowanie innych funkcji. Używa się ich, by dodać lub zmienić funkcjonalność funkcji bez zmiany jej definicji. Dekoratory oznaczamy znakiem `@` nad definicją funkcji.\n",
    "\n",
    "13. **Funkcje jako obiekty pierwszej klasy**:\n",
    "    - Funkcje w Pythonie są traktowane jako obiekty pierwszej klasy, co oznacza, że można je przypisywać do zmiennych, przekazywać jako argumenty do innych funkcji, a także zwracać z funkcji.\n",
    "\n",
    "14. **Funkcje wbudowane**:\n",
    "    - Python ma wiele funkcji wbudowanych, takich jak `len()`, `max()`, `min()`, `sum()`, które są dostępne bez konieczności ich definiowania."
   ]
  },
  {
   "cell_type": "code",
   "execution_count": 342,
   "metadata": {},
   "outputs": [
    {
     "data": {
      "text/plain": [
       "'Flip :)'"
      ]
     },
     "execution_count": 342,
     "metadata": {},
     "output_type": "execute_result"
    }
   ],
   "source": [
    "def do_a_flip():\n",
    "    return \"Flip :)\"\n",
    "\n",
    "do_a_flip()"
   ]
  },
  {
   "cell_type": "code",
   "execution_count": 343,
   "metadata": {},
   "outputs": [
    {
     "data": {
      "text/plain": [
       "6"
      ]
     },
     "execution_count": 343,
     "metadata": {},
     "output_type": "execute_result"
    }
   ],
   "source": [
    "def dodawanie(a,b):\n",
    "    return a + b\n",
    "\n",
    "dodawanie(1, 5)"
   ]
  },
  {
   "cell_type": "code",
   "execution_count": 344,
   "metadata": {},
   "outputs": [
    {
     "data": {
      "text/plain": [
       "120"
      ]
     },
     "execution_count": 344,
     "metadata": {},
     "output_type": "execute_result"
    }
   ],
   "source": [
    "def silnia(n):\n",
    "    if n in [0, 1]:\n",
    "        return 1\n",
    "    else:\n",
    "        return n * silnia(n-1)\n",
    "    \n",
    "silnia(5)"
   ]
  },
  {
   "cell_type": "markdown",
   "metadata": {},
   "source": [
    "### Klasy i obiekty:\n",
    "\n",
    "1. **Definiowanie klasy**:\n",
    "   - Klasy w Pythonie definiuje się za pomocą słowa kluczowego **`class`**, po którym następuje nazwa klasy.\n",
    "   - Klasa jest szablonem do tworzenia obiektów, które są instancjami klasy.\n",
    "\n",
    "2. **Konstruktor klasy (`__init__`)**:\n",
    "   - Specjalna metoda, która jest wywoływana automatycznie przy tworzeniu nowego obiektu (instancji klasy). Używa się jej do inicjalizowania atrybutów obiektu.\n",
    "   - **`self`** to pierwszy argument każdej metody w klasie, który odnosi się do instancji klasy. Używa się go do dostępu do atrybutów i metod w obrębie obiektu.\n",
    "\n",
    "3. **Atrybuty klasy**:\n",
    "   - Zmienne definiowane wewnątrz klasy, które opisują właściwości obiektu. Mogą być:\n",
    "     - **Atrybutami instancji**: Każda instancja (obiekt) ma swoje własne wartości tych atrybutów.\n",
    "     - **Atrybutami klasy**: Wartości współdzielone przez wszystkie instancje danej klasy.\n",
    "\n",
    "4. **Metody**:\n",
    "   - Funkcje zdefiniowane wewnątrz klasy, które działają na obiektach tej klasy.\n",
    "   - **Metody instancji**: Metody, które operują na instancji klasy i używają `self`.\n",
    "   - **Metody klasy (`@classmethod`)**: Metody, które operują na samej klasie, a nie na konkretnych instancjach. Pierwszym argumentem jest `cls`, który odnosi się do klasy.\n",
    "   - **Metody statyczne (`@staticmethod`)**: Metody, które nie mają dostępu ani do instancji, ani do klasy. Nie używają ani `self`, ani `cls`. Są podobne do zwykłych funkcji, ale są definiowane w klasie dla logicznej organizacji.\n",
    "\n",
    "5. **Dziedziczenie**:\n",
    "   - Klasy mogą dziedziczyć właściwości i metody po innych klasach, co umożliwia tworzenie hierarchii klas.\n",
    "   - Klasa dziedzicząca (podklasa) może korzystać z funkcji i atrybutów klasy bazowej (superklasy), a także może je nadpisywać lub rozszerzać.\n",
    "   - **`super()`**: Używane do odwołania się do klasy nadrzędnej, umożliwiając wywołanie jej metod i konstruktorów w podklasie.\n",
    "\n",
    "6. **Kapsułkowanie**:\n",
    "   - Kapsułkowanie polega na ukrywaniu wewnętrznych szczegółów implementacji klasy przed użytkownikiem. Atrybuty i metody można oznaczać jako prywatne, poprzedzając ich nazwę podkreślnikiem `_` (wskazówka, że nie powinny być bezpośrednio modyfikowane) lub podwójnym podkreślnikiem `__` (mangle'owanie nazw, aby zmniejszyć ryzyko przypadkowej modyfikacji).\n",
    "\n",
    "7. **Polimorfizm**:\n",
    "   - Różne klasy mogą mieć metody o tej samej nazwie, ale implementować je na różne sposoby. Dzięki polimorfizmowi można wywoływać te same metody na różnych obiektach, uzyskując różne zachowania.\n",
    "\n",
    "8. **Metody specjalne (tzw. magiczne, dunder methods)**:\n",
    "   - Metody z podwójnymi podkreślnikami (`__metoda__`), które pozwalają na przeciążanie wbudowanych operacji, takich jak tworzenie reprezentacji obiektu, porównywanie, czy operacje matematyczne.\n",
    "   - **`__str__`** i **`__repr__`**: Definiują, jak obiekt będzie reprezentowany jako string.\n",
    "   - **`__len__`**: Zwraca długość obiektu (używane np. w `len()`).\n",
    "   - **`__eq__`**: Służy do porównywania obiektów (operacja `==`).\n",
    "   - **`__add__`**: Definiuje działanie operatora `+` dla obiektów.\n",
    "   \n",
    "9. **Abstrakcja**:\n",
    "   - Klasy mogą zawierać metody abstrakcyjne, które muszą zostać zaimplementowane przez klasy dziedziczące.\n",
    "   - Używa się tego w przypadku klas bazowych, które pełnią funkcję szablonów, ale same nie mają pełnej funkcjonalności.\n",
    "   - Moduł `abc` w Pythonie pozwala na definiowanie klas i metod abstrakcyjnych za pomocą dekoratora **`@abstractmethod`**.\n",
    "\n",
    "10. **Hermetyzacja (encapsulation)**:\n",
    "    - Hermetyzacja polega na ograniczaniu dostępu do wewnętrznych elementów klasy. W Pythonie nie ma ścisłego mechanizmu hermetyzacji (jak np. `private` w innych językach), ale można stosować konwencje nazw (podkreślenie `__` przed nazwą atrybutu), by zasugerować, że dany atrybut lub metoda nie powinny być dostępne spoza klasy.\n",
    "\n",
    "11. **Kompozycja**:\n",
    "    - Klasy mogą zawierać inne klasy jako atrybuty, co pozwala na budowanie bardziej złożonych struktur poprzez łączenie mniejszych obiektów. To alternatywa dla dziedziczenia, umożliwiająca elastyczniejsze budowanie zależności między obiektami.\n",
    "\n",
    "12. **Wyjątki i obsługa błędów w klasach**:\n",
    "    - Klasy mogą definiować własne wyjątki, dziedzicząc po wbudowanej klasie **`Exception`**. Pozwala to na tworzenie specyficznych wyjątków związanych z danym typem obiektów lub kontekstem aplikacji."
   ]
  },
  {
   "cell_type": "code",
   "execution_count": 345,
   "metadata": {},
   "outputs": [
    {
     "name": "stdout",
     "output_type": "stream",
     "text": [
      "Nazywam się Jan Kowalski\n",
      "Mój wiek to: 13.\n"
     ]
    }
   ],
   "source": [
    "class Osoba:\n",
    "    imie: str\n",
    "    nazwisko: str\n",
    "    wiek: int\n",
    "    \n",
    "    def __init__(self, imie: str, nazwisko: str, wiek: int):\n",
    "        self.imie = imie\n",
    "        self.nazwisko = nazwisko\n",
    "        self.wiek = wiek\n",
    "\n",
    "    def przedstaw_sie(self):\n",
    "        print('Nazywam się {0} {1}'.format(self.imie, self.nazwisko))\n",
    "\n",
    "    def moj_wiek(self):\n",
    "        print('Mój wiek to: {0}.'.format(self.wiek))\n",
    "        \n",
    "    def __repr__(self) -> str:\n",
    "        return self.przedstaw_sie() + \"\\n\" + self.moj_wiek()\n",
    "    \n",
    "    def __str__(self) -> str:\n",
    "        return self.przedstaw_sie() + \"\\n\" + self.moj_wiek()\n",
    "\n",
    "\n",
    "os = Osoba('Jan', 'Kowalski', 13)\n",
    "os.przedstaw_sie()\n",
    "os.moj_wiek()"
   ]
  },
  {
   "cell_type": "markdown",
   "metadata": {},
   "source": [
    "### Python Comprehension:\n",
    "\n",
    "1. **List Comprehension (tworzenie list)**:\n",
    "   - Umożliwia tworzenie nowych list w bardziej zwięzły i czytelny sposób.\n",
    "   - Syntaktycznie prostsza alternatywa dla pętli, która umożliwia generowanie list na podstawie istniejących sekwencji.\n",
    "   - Składnia: `[expression for item in iterable]`.\n",
    "\n",
    "2. **Dict Comprehension (tworzenie słowników)**:\n",
    "   - Umożliwia tworzenie słowników w podobny sposób jak list comprehension, ale generuje pary klucz-wartość.\n",
    "   - Składnia: `{key_expression: value_expression for item in iterable}`.\n",
    "\n",
    "3. **Set Comprehension (tworzenie zbiorów)**:\n",
    "   - Umożliwia tworzenie zbiorów za pomocą jednej linii kodu. Podobne do list comprehension, ale wynikiem jest zbiór.\n",
    "   - Składnia: `{expression for item in iterable}`.\n",
    "\n",
    "4. **Generator Comprehension (tworzenie generatorów)**:\n",
    "   - Generatory działają podobnie jak list comprehension, ale zamiast tworzyć od razu pełną listę, zwracają generator, który generuje elementy „na żądanie”, co oszczędza pamięć.\n",
    "   - Składnia: `(expression for item in iterable)`.\n",
    "\n",
    "5. **Comprehension z warunkiem (opcjonalny `if`)**:\n",
    "   - Comprehension można rozszerzyć o warunek, aby filtrować elementy przed ich przetworzeniem.\n",
    "   - Dla list: `[expression for item in iterable if condition]`.\n",
    "   - Dla słowników: `{key_expression: value_expression for item in iterable if condition}`.\n",
    "\n",
    "6. **Zagnieżdżone comprehension**:\n",
    "   - Python pozwala na używanie zagnieżdżonych comprehension do generowania złożonych struktur danych (np. list wielowymiarowych).\n",
    "   - Składnia: `[expression for item1 in iterable1 for item2 in iterable2]`.\n",
    "\n",
    "---\n",
    "\n",
    "### Szczegółowe opisy:\n",
    "\n",
    "1. **List Comprehension**:\n",
    "   - Jest to najczęściej używany rodzaj comprehension. Pozwala przekształcać elementy istniejącej listy lub innej iterowalnej struktury do nowej listy, zgodnie z zadaną operacją lub przekształceniem.\n",
    "   - Idealne do prostych transformacji danych oraz do filtrowania danych w jednej linii.\n",
    "\n",
    "2. **Dict Comprehension**:\n",
    "   - Dict comprehension działa w podobny sposób jak list comprehension, ale zamiast listy tworzy słownik. Każdy element iteracji generuje parę klucz-wartość, która zostanie dodana do nowego słownika.\n",
    "   - Służy do przekształcania istniejących danych w nowe słowniki lub do filtrowania i manipulowania słownikami.\n",
    "\n",
    "3. **Set Comprehension**:\n",
    "   - Set comprehension tworzy zbiory w sposób podobny do list comprehension, ale wynikiem jest zbiór, co oznacza, że duplikaty są automatycznie usuwane.\n",
    "   - Stosuje się je, gdy zależy nam na unikalnych elementach w wynikowej strukturze.\n",
    "\n",
    "4. **Generator Comprehension**:\n",
    "   - Generatory są bardziej efektywne pamięciowo, ponieważ nie tworzą od razu pełnej listy, ale elementy są generowane dopiero, gdy są potrzebne.\n",
    "   - Idealne do pracy z dużymi zestawami danych, gdzie nie chcemy ładować wszystkich elementów naraz do pamięci.\n",
    "\n",
    "5. **Comprehension z warunkiem (`if`)**:\n",
    "   - Warunek umieszczony po iteracji pozwala filtrować elementy, które spełniają określony warunek. Jest to przydatne, gdy chcemy w jednej linii zarówno filtrować, jak i przekształcać dane.\n",
    "   - Można go używać we wszystkich rodzajach comprehension (list, dict, set, generator).\n",
    "\n",
    "6. **Zagnieżdżone comprehension**:\n",
    "   - Zagnieżdżone comprehension pozwala na iterację po wielu kolekcjach w jednej linii. Jest to bardziej złożona technika, ale umożliwia tworzenie wielowymiarowych struktur danych.\n",
    "   - Używane z rozwagą, gdyż może znacząco obniżyć czytelność kodu."
   ]
  },
  {
   "cell_type": "code",
   "execution_count": 346,
   "metadata": {},
   "outputs": [
    {
     "data": {
      "text/plain": [
       "[0, 1, 2, 3, 4]"
      ]
     },
     "execution_count": 346,
     "metadata": {},
     "output_type": "execute_result"
    }
   ],
   "source": [
    "x = []\n",
    "for i in range(5):\n",
    "    x.append(i)\n",
    "x"
   ]
  },
  {
   "cell_type": "code",
   "execution_count": 347,
   "metadata": {},
   "outputs": [
    {
     "data": {
      "text/plain": [
       "[0, 1, 2, 3, 4]"
      ]
     },
     "execution_count": 347,
     "metadata": {},
     "output_type": "execute_result"
    }
   ],
   "source": [
    "x = [x for x in range(5)]\n",
    "x"
   ]
  },
  {
   "cell_type": "code",
   "execution_count": 348,
   "metadata": {},
   "outputs": [
    {
     "data": {
      "text/plain": [
       "[0, 2, 4, 6, 8, 10]"
      ]
     },
     "execution_count": 348,
     "metadata": {},
     "output_type": "execute_result"
    }
   ],
   "source": [
    "x = []\n",
    "for i in range(11):\n",
    "    if i % 2 == 0:\n",
    "        x.append(i)\n",
    "x"
   ]
  },
  {
   "cell_type": "code",
   "execution_count": 349,
   "metadata": {},
   "outputs": [
    {
     "data": {
      "text/plain": [
       "[0, 2, 4, 6, 8, 10]"
      ]
     },
     "execution_count": 349,
     "metadata": {},
     "output_type": "execute_result"
    }
   ],
   "source": [
    "x = [x for x in range(11) if x % 2 == 0]\n",
    "x"
   ]
  },
  {
   "cell_type": "markdown",
   "metadata": {},
   "source": [
    "### Obsługa plików:\n",
    "\n",
    "1. **Otwieranie pliku (`open()`)**:\n",
    "   - Funkcja **`open()`** służy do otwierania pliku w określonym trybie (np. do odczytu, zapisu). Zwraca obiekt pliku, na którym można wykonywać dalsze operacje.\n",
    "   - Możliwe tryby otwierania plików:\n",
    "     - **`'r'`**: Tryb odczytu (domyślny). Plik musi istnieć, inaczej wystąpi błąd.\n",
    "     - **`'w'`**: Tryb zapisu. Tworzy nowy plik lub nadpisuje istniejący.\n",
    "     - **`'a'`**: Tryb dopisywania. Dodaje dane na końcu istniejącego pliku.\n",
    "     - **`'x'`**: Tryb tworzenia nowego pliku. Zgłasza błąd, jeśli plik już istnieje.\n",
    "     - **`'b'`**: Tryb binarny, używany do odczytu lub zapisu plików binarnych.\n",
    "     - **`'t'`**: Tryb tekstowy (domyślny), używany do odczytu lub zapisu plików tekstowych.\n",
    "\n",
    "2. **Zamykanie pliku (`close()`)**:\n",
    "   - Po zakończeniu pracy z plikiem, plik należy zamknąć za pomocą metody **`close()`**, aby zwolnić zasoby systemowe. Python automatycznie zamyka plik po zakończeniu programu, ale najlepiej robić to ręcznie, aby uniknąć problemów.\n",
    "\n",
    "3. **Kontekst menedżera (`with` as)**:\n",
    "   - Użycie **`with`** zapewnia automatyczne zamknięcie pliku po zakończeniu jego używania, nawet jeśli wystąpi błąd. Jest to zalecana metoda otwierania plików.\n",
    "\n",
    "4. **Odczyt pliku**:\n",
    "   - **`read()`**: Odczytuje cały plik jako jeden ciąg znaków.\n",
    "   - **`readline()`**: Odczytuje pojedynczą linię tekstu z pliku.\n",
    "   - **`readlines()`**: Odczytuje wszystkie linie z pliku i zwraca je jako listę.\n",
    "\n",
    "5. **Zapis do pliku**:\n",
    "   - **`write()`**: Zapisuje dane do pliku. Jeśli plik został otwarty w trybie `'w'` lub `'a'`, nadpisuje lub dopisuje dane.\n",
    "   - **`writelines()`**: Zapisuje listę danych do pliku. Każdy element listy zostaje zapisany jako osobna linia.\n",
    "\n",
    "6. **Sprawdzanie pozycji w pliku**:\n",
    "   - **`tell()`**: Zwraca bieżącą pozycję kursora w pliku (w bajtach).\n",
    "   - **`seek()`**: Ustawia kursor na określoną pozycję w pliku (np. przewijanie na początek lub konkretny punkt w pliku).\n",
    "\n",
    "7. **Tryby pracy na plikach binarnych**:\n",
    "   - Pliki binarne, takie jak obrazy lub pliki audio, są otwierane z użyciem trybu `'b'`. Operacje na nich działają podobnie jak na plikach tekstowych, ale dane są odczytywane jako bajty.\n",
    "   - **`rb`**: Odczyt binarny.\n",
    "   - **`wb`**: Zapis binarny.\n",
    "\n",
    "8. **Pliki tymczasowe (`tempfile`)**:\n",
    "   - Moduł **`tempfile`** umożliwia tworzenie tymczasowych plików i katalogów, które są automatycznie usuwane po zakończeniu pracy programu lub po zamknięciu pliku.\n",
    "\n",
    "9. **Obsługa wyjątków podczas pracy z plikami**:\n",
    "   - Podczas pracy z plikami mogą wystąpić różne wyjątki, takie jak **`FileNotFoundError`**, jeśli plik nie istnieje, lub **`IOError`**, jeśli występuje problem z operacjami wejścia/wyjścia. Obsługa wyjątków jest kluczowa, aby program był odporny na błędy.\n",
    "\n",
    "10. **Zarządzanie dużymi plikami**:\n",
    "    - Aby unikać zbyt dużego zużycia pamięci, należy odczytywać pliki fragmentami (np. linia po linii) zamiast odczytywania całego pliku naraz."
   ]
  },
  {
   "cell_type": "code",
   "execution_count": 350,
   "metadata": {},
   "outputs": [
    {
     "name": "stdout",
     "output_type": "stream",
     "text": [
      "1 2 3 4\n",
      "5 6 6 7\n",
      "9 10 11 12\n",
      "Ä… Ä™ Ä‡ ĹĽ\n"
     ]
    }
   ],
   "source": [
    "plik = open('test.txt')\n",
    "dane = plik.read()\n",
    "print(dane)\n",
    "plik.close()"
   ]
  },
  {
   "cell_type": "code",
   "execution_count": 351,
   "metadata": {},
   "outputs": [
    {
     "name": "stdout",
     "output_type": "stream",
     "text": [
      "1 2 3 4\n",
      "5 6 6 7\n",
      "9 10 11 12\n",
      "ą ę ć ż\n"
     ]
    }
   ],
   "source": [
    "plik = open('test.txt', encoding='utf-8')\n",
    "dane = plik.read()\n",
    "print(dane)\n",
    "plik.close()"
   ]
  },
  {
   "cell_type": "code",
   "execution_count": 352,
   "metadata": {},
   "outputs": [
    {
     "name": "stdout",
     "output_type": "stream",
     "text": [
      "1 2 3 4\n",
      "\n",
      "5 6 6 7\n",
      "\n",
      "9 10 11 12\n",
      "\n",
      "ą ę ć ż\n"
     ]
    }
   ],
   "source": [
    "plik = open('test.txt', encoding='utf-8')\n",
    "for linia in plik:\n",
    "    print(linia)\n",
    "plik.close()"
   ]
  },
  {
   "cell_type": "code",
   "execution_count": 353,
   "metadata": {},
   "outputs": [
    {
     "name": "stdout",
     "output_type": "stream",
     "text": [
      "1 2 3 4\n",
      "\n",
      "5 6 6 7\n",
      "\n",
      "9 10 11 12\n",
      "\n",
      "ą ę ć ż\n"
     ]
    }
   ],
   "source": [
    "with open(\"test.txt\", \"r\", encoding=\"utf-8\") as plik:\n",
    "    for linia in plik:\n",
    "        print(linia)"
   ]
  },
  {
   "cell_type": "markdown",
   "metadata": {},
   "source": [
    "## NumPy\n",
    "NumPy to jedna z najważniejszych bibliotek Pythona do obliczeń numerycznych. Umożliwia efektywne przetwarzanie dużych zbiorów danych, dzięki czemu jest często wykorzystywana w analizie danych i uczeniu maszynowym."
   ]
  },
  {
   "cell_type": "markdown",
   "metadata": {},
   "source": [
    "NumPy oferuje szeroki zestaw narzędzi do pracy z tablicami, macierzami i operacjami numerycznymi, co czyni go niezwykle efektywnym narzędziem do analizy danych oraz wykonywania operacji matematycznych na dużych zbiorach danych.\n",
    "\n",
    "### NumPy Comprehension:\n",
    "\n",
    "1. **Tworzenie tablic (ndarray)**:\n",
    "   - NumPy oferuje funkcję **`numpy.array()`** do tworzenia wielowymiarowych tablic (ndarray). Jest to podstawowa struktura danych NumPy, pozwalająca na przechowywanie i operowanie na liczbach.\n",
    "   \n",
    "2. **Tworzenie tablic z wartościami zerowymi i jedynkami**:\n",
    "   - **`numpy.zeros()`**: Tworzy tablicę wypełnioną zerami o zadanym kształcie.\n",
    "   - **`numpy.ones()`**: Tworzy tablicę wypełnioną jedynkami o zadanym kształcie.\n",
    "\n",
    "3. **Tworzenie tablic z wartościami losowymi**:\n",
    "   - **`numpy.random.rand()`**: Tworzy tablicę o zadanym kształcie z losowymi wartościami z zakresu [0, 1) (rozkład jednostajny).\n",
    "   - **`numpy.random.randn()`**: Tworzy tablicę z losowymi wartościami z rozkładu normalnego (średnia 0, odchylenie standardowe 1).\n",
    "\n",
    "4. **Tworzenie tablic arytmetycznych**:\n",
    "   - **`numpy.arange()`**: Tworzy tablicę z ciągiem liczb w danym przedziale, z opcją zdefiniowania kroku.\n",
    "   - **`numpy.linspace()`**: Tworzy tablicę z liczbami równomiernie rozmieszczonymi w określonym przedziale.\n",
    "\n",
    "5. **Podstawowe operacje arytmetyczne**:\n",
    "   - NumPy pozwala na wykonywanie operacji arytmetycznych na tablicach w sposób elementarny (element-wise). Obsługiwane są operacje takie jak dodawanie, odejmowanie, mnożenie, dzielenie oraz operacje na potęgach.\n",
    "   - Przykłady: **`+`, `-`, `*`, `/`, `**`** (operacje wykonywane są dla odpowiadających sobie elementów tablic).\n",
    "\n",
    "6. **Transponowanie tablicy (`.T`)**:\n",
    "   - **`ndarray.T`**: Zwraca transponowaną tablicę (zamiana wierszy na kolumny i odwrotnie).\n",
    "\n",
    "7. **Kształtowanie i zmiana wymiarów tablicy**:\n",
    "   - **`numpy.reshape()`**: Zmienia kształt tablicy, bez zmiany jej zawartości.\n",
    "   - **`numpy.flatten()`**: Spłaszcza wielowymiarową tablicę do jednowymiarowej.\n",
    "   - **`numpy.ravel()`**: Podobna do `flatten`, ale zwraca widok na oryginalną tablicę, a nie kopię.\n",
    "\n",
    "8. **Indeksowanie i wycinanie (slicing)**:\n",
    "   - NumPy pozwala na zaawansowane indeksowanie tablic, w tym:\n",
    "     - **Indeksowanie skalarem**: Dostęp do pojedynczego elementu tablicy za pomocą jego indeksu.\n",
    "     - **Wycinanie (slicing)**: Wyodrębnianie fragmentów tablicy przy użyciu operatora `:`.\n",
    "\n",
    "9. **Operacje na osi (axis)**:\n",
    "   - W NumPy można wykonywać operacje wzdłuż określonej osi tablicy.\n",
    "   - **`axis=0`** odnosi się do operacji wzdłuż kolumn (w kierunku pionowym).\n",
    "   - **`axis=1`** odnosi się do operacji wzdłuż wierszy (w kierunku poziomym).\n",
    "\n",
    "10. **Agregacja danych**:\n",
    "    - **`numpy.sum()`**: Zwraca sumę elementów tablicy.\n",
    "    - **`numpy.mean()`**: Zwraca średnią arytmetyczną elementów tablicy.\n",
    "    - **`numpy.max()`**, **`numpy.min()`**: Zwracają odpowiednio największy i najmniejszy element tablicy.\n",
    "    - **`numpy.std()`**: Oblicza odchylenie standardowe elementów w tablicy.\n",
    "    - **`numpy.median()`**: Oblicza medianę elementów w tablicy.\n",
    "\n",
    "11. **Łączenie i dzielenie tablic**:\n",
    "    - **`numpy.concatenate()`**: Łączy dwie lub więcej tablic wzdłuż określonej osi.\n",
    "    - **`numpy.vstack()`**: Łączy tablice pionowo (wzdłuż wierszy).\n",
    "    - **`numpy.hstack()`**: Łączy tablice poziomo (wzdłuż kolumn).\n",
    "    - **`numpy.split()`**: Dzieli tablicę na podtablice według określonego podziału.\n",
    "\n",
    "12. **Operacje logiczne i maski**:\n",
    "    - NumPy obsługuje operacje logiczne na tablicach, takie jak porównywanie elementów, np. **`>`, `<`, `==`**, zwracając tablice wartości logicznych.\n",
    "    - **Maski logiczne**: Używane do filtrowania danych. Maski pozwalają na wybieranie elementów tablicy spełniających określone warunki.\n",
    "\n",
    "13. **Macierze i algebra liniowa**:\n",
    "    - NumPy zawiera funkcje do operacji na macierzach i operacji algebraicznych.\n",
    "    - **`numpy.dot()`**: Iloczyn macierzowy (mnożenie macierzy).\n",
    "    - **`numpy.linalg.inv()`**: Odwracanie macierzy.\n",
    "    - **`numpy.linalg.eig()`**: Obliczanie wartości i wektorów własnych macierzy.\n",
    "\n",
    "14. **Broadcasting**:\n",
    "    - Mechanizm NumPy, który automatycznie rozszerza rozmiary tablic o różnych wymiarach, aby umożliwić wykonywanie operacji arytmetycznych między nimi.\n",
    "    - Pozwala na wykonywanie operacji między tablicami o różnych kształtach, bez konieczności jawnego powiększania mniejszych tablic.\n",
    "\n",
    "15. **Obsługa brakujących wartości (`NaN`)**:\n",
    "    - NumPy oferuje funkcje do pracy z brakującymi danymi:\n",
    "      - **`numpy.isnan()`**: Sprawdza, które elementy tablicy są `NaN` (brak wartości).\n",
    "      - **`numpy.nan_to_num()`**: Zamienia wartości `NaN` na zdefiniowane liczby."
   ]
  },
  {
   "cell_type": "markdown",
   "metadata": {},
   "source": [
    "### Tworzenie tablic NumPy\n",
    "Tablice NumPy są bardziej wydajne niż tradycyjne listy Pythona."
   ]
  },
  {
   "cell_type": "code",
   "execution_count": 354,
   "metadata": {},
   "outputs": [
    {
     "data": {
      "text/plain": [
       "array([1, 2, 3, 4])"
      ]
     },
     "execution_count": 354,
     "metadata": {},
     "output_type": "execute_result"
    }
   ],
   "source": [
    "np_array = np.array([1, 2, 3, 4])\n",
    "np_array"
   ]
  },
  {
   "cell_type": "markdown",
   "metadata": {},
   "source": [
    "### Podstawowe operacje na tablicach\n",
    "NumPy umożliwia wykonywanie operacji na całych tablicach bez potrzeby używania pętli."
   ]
  },
  {
   "cell_type": "code",
   "execution_count": 355,
   "metadata": {},
   "outputs": [
    {
     "name": "stdout",
     "output_type": "stream",
     "text": [
      "[2 3 4 5]\n",
      "[ 6  9 12 15]\n",
      "[2.44948974 3.         3.46410162 3.87298335]\n"
     ]
    }
   ],
   "source": [
    "np_array += 1                   # Dodaje 1 do każdego \n",
    "print(np_array)\n",
    "np_array *= 3                   # Mnoży każdy element przez 3\n",
    "print(np_array)\n",
    "np_array = np.sqrt(np_array)    # Pierwiastek kwadratowy z każdego elementu\n",
    "print(np_array)"
   ]
  },
  {
   "cell_type": "markdown",
   "metadata": {},
   "source": [
    "### Indeksowanie i wycinanie\n",
    "Można uzyskiwać dostęp do poszczególnych elementów tablicy, a także wycinać fragmenty."
   ]
  },
  {
   "cell_type": "code",
   "execution_count": 356,
   "metadata": {},
   "outputs": [
    {
     "name": "stdout",
     "output_type": "stream",
     "text": [
      "2.449489742783178\n",
      "[3.         3.46410162]\n",
      "6\n"
     ]
    }
   ],
   "source": [
    "print(np_array[0])          # Pierwszy element\n",
    "print(np_array[1:3])        # Elementy od indeksu 1 do 2\n",
    "\n",
    "arr2 = np.array([[1, 2, 3], [4, 5, 6], [7, 8, 9]])\n",
    "print(arr2[1,2])            # Element z w wiersza i 3 kolumny"
   ]
  },
  {
   "cell_type": "markdown",
   "metadata": {},
   "source": [
    "### Statystyki\n",
    "NumPy dostarcza funkcji do obliczeń statystycznych."
   ]
  },
  {
   "cell_type": "code",
   "execution_count": 357,
   "metadata": {},
   "outputs": [
    {
     "name": "stdout",
     "output_type": "stream",
     "text": [
      "3.196643676032087\n",
      "0.5305367173759638\n",
      "12.786574704128348\n"
     ]
    }
   ],
   "source": [
    "print(np.mean(np_array))     # Średnia\n",
    "print(np.std(np_array))      # Odchylenie standardowe\n",
    "print(np.sum(np_array))      # Suma wszystkich elementów"
   ]
  },
  {
   "cell_type": "markdown",
   "metadata": {},
   "source": [
    "### Operacje na macierzach\n",
    "NumPy pozwala na wykonywanie operacji na macierzach, takich jak mnożenie czy transpozycja."
   ]
  },
  {
   "cell_type": "code",
   "execution_count": 358,
   "metadata": {},
   "outputs": [
    {
     "name": "stdout",
     "output_type": "stream",
     "text": [
      "[[ 30  36  42]\n",
      " [ 66  81  96]\n",
      " [102 126 150]]\n",
      "[[1 4 7]\n",
      " [2 5 8]\n",
      " [3 6 9]]\n",
      "[[ 1  4  9]\n",
      " [16 25 36]\n",
      " [49 64 81]]\n",
      "-216.00000000000006\n",
      "[ 1 25 81]\n"
     ]
    }
   ],
   "source": [
    "print(np.dot(arr2, arr2))       # Mnożenie macierzy\n",
    "print(np.transpose(arr2))       # Transpozycja macierzy+\n",
    "arr2 *= arr2\n",
    "print(arr2)\n",
    "print(np.linalg.det(arr2))      # Wyznacznik macierzy\n",
    "print(np.diag(arr2))            # Przekątna macierzy"
   ]
  },
  {
   "cell_type": "code",
   "execution_count": 359,
   "metadata": {},
   "outputs": [
    {
     "name": "stdout",
     "output_type": "stream",
     "text": [
      "[0 2 4 6 8]\n"
     ]
    }
   ],
   "source": [
    "# Tworzenie tablicy od 0 do 10 z krokiem 2\n",
    "tablica_arange = np.arange(0, 10, 2)\n",
    "print(tablica_arange)  # Wynik: [0 2 4 6 8]"
   ]
  },
  {
   "cell_type": "code",
   "execution_count": 360,
   "metadata": {},
   "outputs": [
    {
     "name": "stdout",
     "output_type": "stream",
     "text": [
      "[0.   0.25 0.5  0.75 1.  ]\n"
     ]
    }
   ],
   "source": [
    "# Tworzenie tablicy z 5 równymi wartościami od 0 do 1\n",
    "tablica_linspace = np.linspace(0, 1, 5)\n",
    "print(tablica_linspace)  # Wynik: [0.   0.25 0.5  0.75 1.  ]\n"
   ]
  },
  {
   "cell_type": "code",
   "execution_count": 361,
   "metadata": {},
   "outputs": [
    {
     "name": "stdout",
     "output_type": "stream",
     "text": [
      "[[1. 1. 1.]\n",
      " [1. 1. 1.]]\n"
     ]
    }
   ],
   "source": [
    "# Tworzenie 2x3 tablicy wypełnionej jedynkami\n",
    "tablica_ones = np.ones((2, 3))\n",
    "print(tablica_ones)\n",
    "# Wynik:\n",
    "# [[1. 1. 1.]\n",
    "#  [1. 1. 1.]]\n"
   ]
  },
  {
   "cell_type": "code",
   "execution_count": 362,
   "metadata": {},
   "outputs": [
    {
     "name": "stdout",
     "output_type": "stream",
     "text": [
      "[[0. 0. 0.]\n",
      " [0. 0. 0.]]\n"
     ]
    }
   ],
   "source": [
    "# Tworzenie 2x3 tablicy wypełnionej zerami\n",
    "tablica_zeros = np.zeros((2, 3))\n",
    "print(tablica_zeros)\n",
    "# Wynik:\n",
    "# [[0. 0. 0.]\n",
    "#  [0. 0. 0.]]\n"
   ]
  },
  {
   "cell_type": "code",
   "execution_count": 363,
   "metadata": {},
   "outputs": [
    {
     "name": "stdout",
     "output_type": "stream",
     "text": [
      "[[1. 0. 0.]\n",
      " [0. 1. 0.]\n",
      " [0. 0. 1.]]\n"
     ]
    }
   ],
   "source": [
    "# Tworzenie 3x3 macierzy jednostkowej\n",
    "macierz_jednostkowa = np.eye(3)\n",
    "print(macierz_jednostkowa)\n",
    "# Wynik:\n",
    "# [[1. 0. 0.]\n",
    "#  [0. 1. 0.]\n",
    "#  [0. 0. 1.]]\n"
   ]
  },
  {
   "cell_type": "code",
   "execution_count": 364,
   "metadata": {},
   "outputs": [
    {
     "name": "stdout",
     "output_type": "stream",
     "text": [
      "[[0.0072655  0.59936058 0.44407981]\n",
      " [0.45941305 0.14721138 0.82961323]]\n"
     ]
    }
   ],
   "source": [
    "# Tworzenie tablicy 2x3 z losowymi wartościami z rozkładu jednostajnego\n",
    "tablica_random = np.random.rand(2, 3)\n",
    "print(tablica_random)\n",
    "# Wynik może być różny, np.:\n",
    "# [[0.5488135  0.71518937 0.60276338]\n",
    "#  [0.54488318 0.4236548  0.64589411]]\n"
   ]
  },
  {
   "cell_type": "markdown",
   "metadata": {},
   "source": [
    "## Pandas\n",
    "Pandas to biblioteka do manipulacji i analizy danych. Oferuje dwa główne typy obiektów: Series (jednowymiarowe) i DataFrame (dwuwymiarowe), które są szczególnie przydatne do pracy z danymi tabelarycznymi."
   ]
  },
  {
   "cell_type": "markdown",
   "metadata": {},
   "source": [
    "Pandas to potężna biblioteka do analizy danych w Pythonie, która umożliwia łatwe manipulowanie danymi tabelarycznymi, zarządzanie brakującymi wartościami oraz przeprowadzanie złożonych operacji agregacyjnych i transformacyjnych. Jest szeroko stosowana w dziedzinach takich jak analiza danych, eksploracja danych oraz uczenie maszynowe.\n",
    "\n",
    "### Pandas:\n",
    "\n",
    "1. **Tworzenie obiektów DataFrame i Series**:\n",
    "   - **`pd.DataFrame()`**: Umożliwia tworzenie tabeli danych (DataFrame), która jest podstawową strukturą danych w Pandas. Może zawierać różne typy danych (np. liczby, teksty) w kolumnach.\n",
    "   - **`pd.Series()`**: Tworzy jednowymiarową tablicę danych, podobną do kolumny w DataFrame, która może mieć dowolny typ danych.\n",
    "\n",
    "2. **Wczytywanie danych**:\n",
    "   - **`pd.read_csv()`**: Wczytuje dane z pliku CSV do DataFrame. Umożliwia różne opcje konfiguracyjne (np. separator, nagłówki).\n",
    "   - **`pd.read_excel()`**: Wczytuje dane z pliku Excel (XLS, XLSX) do DataFrame.\n",
    "   - **`pd.read_sql()`**: Wczytuje dane z bazy danych SQL do DataFrame.\n",
    "\n",
    "3. **Eksportowanie danych**:\n",
    "   - **`DataFrame.to_csv()`**: Eksportuje dane z DataFrame do pliku CSV.\n",
    "   - **`DataFrame.to_excel()`**: Eksportuje dane z DataFrame do pliku Excel.\n",
    "   - **`DataFrame.to_sql()`**: Zapisuje dane z DataFrame do bazy danych SQL.\n",
    "\n",
    "4. **Inspekcja danych**:\n",
    "   - **`DataFrame.head()`**: Zwraca pierwsze n wierszy z DataFrame, co umożliwia szybki podgląd danych.\n",
    "   - **`DataFrame.tail()`**: Zwraca ostatnie n wierszy z DataFrame.\n",
    "   - **`DataFrame.info()`**: Wyświetla podsumowanie DataFrame, w tym liczby wierszy, kolumn oraz typy danych.\n",
    "   - **`DataFrame.describe()`**: Zwraca statystyki opisowe dla danych liczbowych w DataFrame (np. średnia, mediana, min, max).\n",
    "\n",
    "5. **Indeksowanie i wybieranie danych**:\n",
    "   - **`DataFrame.loc[]`**: Umożliwia wybieranie danych na podstawie etykiet indeksów (kolumn i wierszy).\n",
    "   - **`DataFrame.iloc[]`**: Umożliwia wybieranie danych na podstawie pozycji indeksów (numerycznych).\n",
    "   - **`DataFrame.at[]`**: Służy do szybkiego dostępu do pojedynczych wartości przy użyciu etykiet indeksów.\n",
    "   - **`DataFrame.iat[]`**: Służy do szybkiego dostępu do pojedynczych wartości przy użyciu pozycji indeksów.\n",
    "\n",
    "6. **Filtracja i wycinanie**:\n",
    "   - Umożliwia filtrowanie danych na podstawie warunków (np. **`DataFrame[DataFrame['kolumna'] > wartość]`**).\n",
    "   - Możliwość tworzenia nowych DataFrame z wybranymi kolumnami lub wierszami.\n",
    "\n",
    "7. **Modyfikacja danych**:\n",
    "   - **`DataFrame['kolumna'] = value`**: Możliwość przypisania nowych wartości do kolumny w DataFrame.\n",
    "   - **`DataFrame.drop()`**: Usuwa kolumny lub wiersze z DataFrame.\n",
    "   - **`DataFrame.rename()`**: Zmienia nazwy kolumn lub indeksów w DataFrame.\n",
    "\n",
    "8. **Agregacja i grupowanie**:\n",
    "   - **`DataFrame.groupby()`**: Umożliwia grupowanie danych na podstawie określonych kolumn i wykonywanie operacji agregacyjnych (np. sumy, średnie).\n",
    "   - **`DataFrame.agg()`**: Umożliwia stosowanie różnych funkcji agregacyjnych do grupowanych danych.\n",
    "\n",
    "9. **Sortowanie danych**:\n",
    "   - **`DataFrame.sort_values()`**: Sortuje wiersze w DataFrame według wartości w określonej kolumnie.\n",
    "   - **`DataFrame.sort_index()`**: Sortuje wiersze w DataFrame według indeksu.\n",
    "\n",
    "10. **Operacje na brakujących danych**:\n",
    "    - **`DataFrame.isnull()`**: Sprawdza, które wartości są brakujące (NaN) w DataFrame.\n",
    "    - **`DataFrame.fillna()`**: Umożliwia wypełnienie brakujących wartości określoną wartością lub metodą.\n",
    "    - **`DataFrame.dropna()`**: Usuwa wiersze lub kolumny z brakującymi wartościami.\n",
    "\n",
    "11. **Łączenie danych**:\n",
    "    - **`pd.concat()`**: Łączy różne DataFrame wzdłuż określonej osi (wiersze lub kolumny).\n",
    "    - **`pd.merge()`**: Łączy dwa DataFrame na podstawie wspólnych kolumn (operacja podobna do SQL JOIN).\n",
    "\n",
    "12. **Zapis do plików**:\n",
    "    - **`DataFrame.to_csv()`**: Zapisuje dane z DataFrame do pliku CSV.\n",
    "    - **`DataFrame.to_excel()`**: Zapisuje dane z DataFrame do pliku Excel.\n",
    "\n",
    "13. **Operacje czasowe**:\n",
    "    - Pandas ma rozbudowane wsparcie dla operacji na danych czasowych.\n",
    "    - **`pd.to_datetime()`**: Konwertuje obiekty na format daty/czasu.\n",
    "    - **`DataFrame.resample()`**: Umożliwia agregowanie danych czasowych w określonych interwałach (np. dzienne, miesięczne).\n",
    "\n",
    "14. **Zastosowanie funkcji**:\n",
    "    - **`DataFrame.apply()`**: Umożliwia stosowanie funkcji do wierszy lub kolumn w DataFrame.\n",
    "    - **`DataFrame.map()`**: Stosuje funkcję do elementów w danej kolumnie.\n",
    "\n",
    "15. **Wizualizacja danych**:\n",
    "    - Pandas współpracuje z biblioteką Matplotlib, umożliwiając prostą wizualizację danych z DataFrame.\n",
    "    - **`DataFrame.plot()`**: Umożliwia tworzenie wykresów na podstawie danych w DataFrame."
   ]
  },
  {
   "cell_type": "markdown",
   "metadata": {},
   "source": [
    "### Tworzenie DataFrame\n",
    "DataFrame jest kluczowym obiektem w Pandas, który reprezentuje dane w postaci tabeli."
   ]
  },
  {
   "cell_type": "code",
   "execution_count": 365,
   "metadata": {},
   "outputs": [
    {
     "name": "stdout",
     "output_type": "stream",
     "text": [
      "   Kolumna1  Kolumna2\n",
      "0         1         4\n",
      "1         2         5\n",
      "2         3         6\n"
     ]
    }
   ],
   "source": [
    "data = {\n",
    "    'Kolumna1': [1, 2, 3],\n",
    "    'Kolumna2': [4, 5, 6]\n",
    "}\n",
    "df = pd.DataFrame(data)\n",
    "print(df)"
   ]
  },
  {
   "cell_type": "markdown",
   "metadata": {},
   "source": [
    "### Wczytywanie danych z pliku\n",
    "Pandas umożliwia łatwe wczytywanie danych z plików."
   ]
  },
  {
   "cell_type": "code",
   "execution_count": 366,
   "metadata": {},
   "outputs": [
    {
     "data": {
      "text/html": [
       "<div>\n",
       "<style scoped>\n",
       "    .dataframe tbody tr th:only-of-type {\n",
       "        vertical-align: middle;\n",
       "    }\n",
       "\n",
       "    .dataframe tbody tr th {\n",
       "        vertical-align: top;\n",
       "    }\n",
       "\n",
       "    .dataframe thead th {\n",
       "        text-align: right;\n",
       "    }\n",
       "</style>\n",
       "<table border=\"1\" class=\"dataframe\">\n",
       "  <thead>\n",
       "    <tr style=\"text-align: right;\">\n",
       "      <th></th>\n",
       "      <th>0</th>\n",
       "      <th>1</th>\n",
       "      <th>2</th>\n",
       "      <th>3</th>\n",
       "    </tr>\n",
       "  </thead>\n",
       "  <tbody>\n",
       "    <tr>\n",
       "      <th>0</th>\n",
       "      <td>1</td>\n",
       "      <td>2</td>\n",
       "      <td>3</td>\n",
       "      <td>4</td>\n",
       "    </tr>\n",
       "    <tr>\n",
       "      <th>1</th>\n",
       "      <td>5</td>\n",
       "      <td>6</td>\n",
       "      <td>6</td>\n",
       "      <td>7</td>\n",
       "    </tr>\n",
       "    <tr>\n",
       "      <th>2</th>\n",
       "      <td>9</td>\n",
       "      <td>10</td>\n",
       "      <td>11</td>\n",
       "      <td>12</td>\n",
       "    </tr>\n",
       "    <tr>\n",
       "      <th>3</th>\n",
       "      <td>ą</td>\n",
       "      <td>ę</td>\n",
       "      <td>ć</td>\n",
       "      <td>ż</td>\n",
       "    </tr>\n",
       "  </tbody>\n",
       "</table>\n",
       "</div>"
      ],
      "text/plain": [
       "   0   1   2   3\n",
       "0  1   2   3   4\n",
       "1  5   6   6   7\n",
       "2  9  10  11  12\n",
       "3  ą   ę   ć   ż"
      ]
     },
     "execution_count": 366,
     "metadata": {},
     "output_type": "execute_result"
    }
   ],
   "source": [
    "df = pd.read_csv('test.txt', header= None, delimiter= \" \")\n",
    "df"
   ]
  },
  {
   "cell_type": "markdown",
   "metadata": {},
   "source": [
    "### Podstawowe operacje na DataFrame\n",
    "Pandas oferuje wiele przydatnych metod do analizy danych."
   ]
  },
  {
   "cell_type": "code",
   "execution_count": 367,
   "metadata": {},
   "outputs": [
    {
     "data": {
      "text/html": [
       "<div>\n",
       "<style scoped>\n",
       "    .dataframe tbody tr th:only-of-type {\n",
       "        vertical-align: middle;\n",
       "    }\n",
       "\n",
       "    .dataframe tbody tr th {\n",
       "        vertical-align: top;\n",
       "    }\n",
       "\n",
       "    .dataframe thead th {\n",
       "        text-align: right;\n",
       "    }\n",
       "</style>\n",
       "<table border=\"1\" class=\"dataframe\">\n",
       "  <thead>\n",
       "    <tr style=\"text-align: right;\">\n",
       "      <th></th>\n",
       "      <th>0</th>\n",
       "      <th>1</th>\n",
       "      <th>2</th>\n",
       "      <th>3</th>\n",
       "    </tr>\n",
       "  </thead>\n",
       "  <tbody>\n",
       "    <tr>\n",
       "      <th>0</th>\n",
       "      <td>1</td>\n",
       "      <td>2</td>\n",
       "      <td>3</td>\n",
       "      <td>4</td>\n",
       "    </tr>\n",
       "    <tr>\n",
       "      <th>1</th>\n",
       "      <td>5</td>\n",
       "      <td>6</td>\n",
       "      <td>6</td>\n",
       "      <td>7</td>\n",
       "    </tr>\n",
       "  </tbody>\n",
       "</table>\n",
       "</div>"
      ],
      "text/plain": [
       "   0  1  2  3\n",
       "0  1  2  3  4\n",
       "1  5  6  6  7"
      ]
     },
     "execution_count": 367,
     "metadata": {},
     "output_type": "execute_result"
    }
   ],
   "source": [
    "df.head(2)             # Pierwsze 2 wierszy (domyślnie 5)\n"
   ]
  },
  {
   "cell_type": "code",
   "execution_count": 368,
   "metadata": {},
   "outputs": [
    {
     "data": {
      "text/html": [
       "<div>\n",
       "<style scoped>\n",
       "    .dataframe tbody tr th:only-of-type {\n",
       "        vertical-align: middle;\n",
       "    }\n",
       "\n",
       "    .dataframe tbody tr th {\n",
       "        vertical-align: top;\n",
       "    }\n",
       "\n",
       "    .dataframe thead th {\n",
       "        text-align: right;\n",
       "    }\n",
       "</style>\n",
       "<table border=\"1\" class=\"dataframe\">\n",
       "  <thead>\n",
       "    <tr style=\"text-align: right;\">\n",
       "      <th></th>\n",
       "      <th>0</th>\n",
       "      <th>1</th>\n",
       "      <th>2</th>\n",
       "      <th>3</th>\n",
       "    </tr>\n",
       "  </thead>\n",
       "  <tbody>\n",
       "    <tr>\n",
       "      <th>count</th>\n",
       "      <td>4</td>\n",
       "      <td>4</td>\n",
       "      <td>4</td>\n",
       "      <td>4</td>\n",
       "    </tr>\n",
       "    <tr>\n",
       "      <th>unique</th>\n",
       "      <td>4</td>\n",
       "      <td>4</td>\n",
       "      <td>4</td>\n",
       "      <td>4</td>\n",
       "    </tr>\n",
       "    <tr>\n",
       "      <th>top</th>\n",
       "      <td>1</td>\n",
       "      <td>2</td>\n",
       "      <td>3</td>\n",
       "      <td>4</td>\n",
       "    </tr>\n",
       "    <tr>\n",
       "      <th>freq</th>\n",
       "      <td>1</td>\n",
       "      <td>1</td>\n",
       "      <td>1</td>\n",
       "      <td>1</td>\n",
       "    </tr>\n",
       "  </tbody>\n",
       "</table>\n",
       "</div>"
      ],
      "text/plain": [
       "        0  1  2  3\n",
       "count   4  4  4  4\n",
       "unique  4  4  4  4\n",
       "top     1  2  3  4\n",
       "freq    1  1  1  1"
      ]
     },
     "execution_count": 368,
     "metadata": {},
     "output_type": "execute_result"
    }
   ],
   "source": [
    "df.describe()         # Statystyki opisowe"
   ]
  },
  {
   "cell_type": "code",
   "execution_count": 369,
   "metadata": {},
   "outputs": [
    {
     "name": "stdout",
     "output_type": "stream",
     "text": [
      "<class 'pandas.core.frame.DataFrame'>\n",
      "RangeIndex: 4 entries, 0 to 3\n",
      "Data columns (total 4 columns):\n",
      " #   Column  Non-Null Count  Dtype \n",
      "---  ------  --------------  ----- \n",
      " 0   0       4 non-null      object\n",
      " 1   1       4 non-null      object\n",
      " 2   2       4 non-null      object\n",
      " 3   3       4 non-null      object\n",
      "dtypes: object(4)\n",
      "memory usage: 256.0+ bytes\n"
     ]
    }
   ],
   "source": [
    "df.info()             # Informacje o DataFrame"
   ]
  },
  {
   "cell_type": "markdown",
   "metadata": {},
   "source": [
    "### Indeksowanie i wycinanie danych\n",
    "Można uzyskiwać dostęp do kolumn i wierszy w DataFrame."
   ]
  },
  {
   "cell_type": "code",
   "execution_count": 370,
   "metadata": {},
   "outputs": [],
   "source": [
    "df.columns = [\"k1\" , \"k2\", \"k3\", \"k4\"]"
   ]
  },
  {
   "cell_type": "code",
   "execution_count": 371,
   "metadata": {},
   "outputs": [
    {
     "data": {
      "text/plain": [
       "0    1\n",
       "1    5\n",
       "2    9\n",
       "3    ą\n",
       "Name: k1, dtype: object"
      ]
     },
     "execution_count": 371,
     "metadata": {},
     "output_type": "execute_result"
    }
   ],
   "source": [
    "df['k1']                # Dostęp do kolumny"
   ]
  },
  {
   "cell_type": "code",
   "execution_count": 372,
   "metadata": {},
   "outputs": [
    {
     "data": {
      "text/plain": [
       "k1    1\n",
       "k2    2\n",
       "k3    3\n",
       "k4    4\n",
       "Name: 0, dtype: object"
      ]
     },
     "execution_count": 372,
     "metadata": {},
     "output_type": "execute_result"
    }
   ],
   "source": [
    "df.loc[0]               # Dostęp do pierwszego wiersza"
   ]
  },
  {
   "cell_type": "code",
   "execution_count": 373,
   "metadata": {},
   "outputs": [
    {
     "data": {
      "text/html": [
       "<div>\n",
       "<style scoped>\n",
       "    .dataframe tbody tr th:only-of-type {\n",
       "        vertical-align: middle;\n",
       "    }\n",
       "\n",
       "    .dataframe tbody tr th {\n",
       "        vertical-align: top;\n",
       "    }\n",
       "\n",
       "    .dataframe thead th {\n",
       "        text-align: right;\n",
       "    }\n",
       "</style>\n",
       "<table border=\"1\" class=\"dataframe\">\n",
       "  <thead>\n",
       "    <tr style=\"text-align: right;\">\n",
       "      <th></th>\n",
       "      <th>k1</th>\n",
       "      <th>k2</th>\n",
       "      <th>k3</th>\n",
       "      <th>k4</th>\n",
       "    </tr>\n",
       "  </thead>\n",
       "  <tbody>\n",
       "    <tr>\n",
       "      <th>0</th>\n",
       "      <td>1</td>\n",
       "      <td>2</td>\n",
       "      <td>3</td>\n",
       "      <td>4</td>\n",
       "    </tr>\n",
       "    <tr>\n",
       "      <th>1</th>\n",
       "      <td>5</td>\n",
       "      <td>6</td>\n",
       "      <td>6</td>\n",
       "      <td>7</td>\n",
       "    </tr>\n",
       "  </tbody>\n",
       "</table>\n",
       "</div>"
      ],
      "text/plain": [
       "  k1 k2 k3 k4\n",
       "0  1  2  3  4\n",
       "1  5  6  6  7"
      ]
     },
     "execution_count": 373,
     "metadata": {},
     "output_type": "execute_result"
    }
   ],
   "source": [
    "df.iloc[0:2]             # Wiersze od 0 do 1"
   ]
  },
  {
   "cell_type": "markdown",
   "metadata": {},
   "source": [
    "### Dodawanie i usuwanie kolumn\n",
    "Można dodawać nowe kolumny do DataFrame oraz usuwać istniejące."
   ]
  },
  {
   "cell_type": "code",
   "execution_count": 374,
   "metadata": {},
   "outputs": [
    {
     "data": {
      "text/html": [
       "<div>\n",
       "<style scoped>\n",
       "    .dataframe tbody tr th:only-of-type {\n",
       "        vertical-align: middle;\n",
       "    }\n",
       "\n",
       "    .dataframe tbody tr th {\n",
       "        vertical-align: top;\n",
       "    }\n",
       "\n",
       "    .dataframe thead th {\n",
       "        text-align: right;\n",
       "    }\n",
       "</style>\n",
       "<table border=\"1\" class=\"dataframe\">\n",
       "  <thead>\n",
       "    <tr style=\"text-align: right;\">\n",
       "      <th></th>\n",
       "      <th>k1</th>\n",
       "      <th>k2</th>\n",
       "      <th>k3</th>\n",
       "      <th>k4</th>\n",
       "      <th>k5</th>\n",
       "    </tr>\n",
       "  </thead>\n",
       "  <tbody>\n",
       "    <tr>\n",
       "      <th>0</th>\n",
       "      <td>1</td>\n",
       "      <td>2</td>\n",
       "      <td>3</td>\n",
       "      <td>4</td>\n",
       "      <td>12</td>\n",
       "    </tr>\n",
       "    <tr>\n",
       "      <th>1</th>\n",
       "      <td>5</td>\n",
       "      <td>6</td>\n",
       "      <td>6</td>\n",
       "      <td>7</td>\n",
       "      <td>56</td>\n",
       "    </tr>\n",
       "    <tr>\n",
       "      <th>2</th>\n",
       "      <td>9</td>\n",
       "      <td>10</td>\n",
       "      <td>11</td>\n",
       "      <td>12</td>\n",
       "      <td>910</td>\n",
       "    </tr>\n",
       "    <tr>\n",
       "      <th>3</th>\n",
       "      <td>ą</td>\n",
       "      <td>ę</td>\n",
       "      <td>ć</td>\n",
       "      <td>ż</td>\n",
       "      <td>ąę</td>\n",
       "    </tr>\n",
       "  </tbody>\n",
       "</table>\n",
       "</div>"
      ],
      "text/plain": [
       "  k1  k2  k3  k4   k5\n",
       "0  1   2   3   4   12\n",
       "1  5   6   6   7   56\n",
       "2  9  10  11  12  910\n",
       "3  ą   ę   ć   ż   ąę"
      ]
     },
     "execution_count": 374,
     "metadata": {},
     "output_type": "execute_result"
    }
   ],
   "source": [
    "df['k5'] = df['k1'] + df['k2']              # Dodanie nowej kolumny\n",
    "df"
   ]
  },
  {
   "cell_type": "code",
   "execution_count": 375,
   "metadata": {},
   "outputs": [
    {
     "data": {
      "text/html": [
       "<div>\n",
       "<style scoped>\n",
       "    .dataframe tbody tr th:only-of-type {\n",
       "        vertical-align: middle;\n",
       "    }\n",
       "\n",
       "    .dataframe tbody tr th {\n",
       "        vertical-align: top;\n",
       "    }\n",
       "\n",
       "    .dataframe thead th {\n",
       "        text-align: right;\n",
       "    }\n",
       "</style>\n",
       "<table border=\"1\" class=\"dataframe\">\n",
       "  <thead>\n",
       "    <tr style=\"text-align: right;\">\n",
       "      <th></th>\n",
       "      <th>k1</th>\n",
       "      <th>k2</th>\n",
       "      <th>k4</th>\n",
       "      <th>k5</th>\n",
       "    </tr>\n",
       "  </thead>\n",
       "  <tbody>\n",
       "    <tr>\n",
       "      <th>0</th>\n",
       "      <td>1</td>\n",
       "      <td>2</td>\n",
       "      <td>4</td>\n",
       "      <td>12</td>\n",
       "    </tr>\n",
       "    <tr>\n",
       "      <th>1</th>\n",
       "      <td>5</td>\n",
       "      <td>6</td>\n",
       "      <td>7</td>\n",
       "      <td>56</td>\n",
       "    </tr>\n",
       "    <tr>\n",
       "      <th>2</th>\n",
       "      <td>9</td>\n",
       "      <td>10</td>\n",
       "      <td>12</td>\n",
       "      <td>910</td>\n",
       "    </tr>\n",
       "    <tr>\n",
       "      <th>3</th>\n",
       "      <td>ą</td>\n",
       "      <td>ę</td>\n",
       "      <td>ż</td>\n",
       "      <td>ąę</td>\n",
       "    </tr>\n",
       "  </tbody>\n",
       "</table>\n",
       "</div>"
      ],
      "text/plain": [
       "  k1  k2  k4   k5\n",
       "0  1   2   4   12\n",
       "1  5   6   7   56\n",
       "2  9  10  12  910\n",
       "3  ą   ę   ż   ąę"
      ]
     },
     "execution_count": 375,
     "metadata": {},
     "output_type": "execute_result"
    }
   ],
   "source": [
    "df.drop('k3', axis= 1, inplace=True)         # Usunięcie kolumny\n",
    "df"
   ]
  },
  {
   "cell_type": "code",
   "execution_count": 376,
   "metadata": {},
   "outputs": [
    {
     "data": {
      "text/html": [
       "<div>\n",
       "<style scoped>\n",
       "    .dataframe tbody tr th:only-of-type {\n",
       "        vertical-align: middle;\n",
       "    }\n",
       "\n",
       "    .dataframe tbody tr th {\n",
       "        vertical-align: top;\n",
       "    }\n",
       "\n",
       "    .dataframe thead th {\n",
       "        text-align: right;\n",
       "    }\n",
       "</style>\n",
       "<table border=\"1\" class=\"dataframe\">\n",
       "  <thead>\n",
       "    <tr style=\"text-align: right;\">\n",
       "      <th></th>\n",
       "      <th>k1</th>\n",
       "      <th>k2</th>\n",
       "      <th>k4</th>\n",
       "      <th>k5</th>\n",
       "    </tr>\n",
       "  </thead>\n",
       "  <tbody>\n",
       "    <tr>\n",
       "      <th>0</th>\n",
       "      <td>1</td>\n",
       "      <td>2</td>\n",
       "      <td>4</td>\n",
       "      <td>12</td>\n",
       "    </tr>\n",
       "    <tr>\n",
       "      <th>1</th>\n",
       "      <td>5</td>\n",
       "      <td>6</td>\n",
       "      <td>7</td>\n",
       "      <td>56</td>\n",
       "    </tr>\n",
       "    <tr>\n",
       "      <th>2</th>\n",
       "      <td>9</td>\n",
       "      <td>10</td>\n",
       "      <td>12</td>\n",
       "      <td>910</td>\n",
       "    </tr>\n",
       "  </tbody>\n",
       "</table>\n",
       "</div>"
      ],
      "text/plain": [
       "  k1  k2  k4   k5\n",
       "0  1   2   4   12\n",
       "1  5   6   7   56\n",
       "2  9  10  12  910"
      ]
     },
     "execution_count": 376,
     "metadata": {},
     "output_type": "execute_result"
    }
   ],
   "source": [
    "df.drop(3, axis= 0, inplace= True)          # Usunięcie wiersza\n",
    "df"
   ]
  },
  {
   "cell_type": "code",
   "execution_count": 377,
   "metadata": {},
   "outputs": [
    {
     "data": {
      "text/plain": [
       "k1    object\n",
       "k2    object\n",
       "k4    object\n",
       "k5    object\n",
       "dtype: object"
      ]
     },
     "execution_count": 377,
     "metadata": {},
     "output_type": "execute_result"
    }
   ],
   "source": [
    "df.dtypes"
   ]
  },
  {
   "cell_type": "code",
   "execution_count": 378,
   "metadata": {},
   "outputs": [
    {
     "data": {
      "text/plain": [
       "k1    int32\n",
       "k2    int32\n",
       "k4    int32\n",
       "k5    int32\n",
       "dtype: object"
      ]
     },
     "execution_count": 378,
     "metadata": {},
     "output_type": "execute_result"
    }
   ],
   "source": [
    "for i in [1,2,4,5]:\n",
    "    df[f\"k{i}\"] = df[f\"k{i}\"].astype(int)\n",
    "df.dtypes"
   ]
  },
  {
   "cell_type": "code",
   "execution_count": 379,
   "metadata": {},
   "outputs": [
    {
     "data": {
      "text/html": [
       "<div>\n",
       "<style scoped>\n",
       "    .dataframe tbody tr th:only-of-type {\n",
       "        vertical-align: middle;\n",
       "    }\n",
       "\n",
       "    .dataframe tbody tr th {\n",
       "        vertical-align: top;\n",
       "    }\n",
       "\n",
       "    .dataframe thead th {\n",
       "        text-align: right;\n",
       "    }\n",
       "</style>\n",
       "<table border=\"1\" class=\"dataframe\">\n",
       "  <thead>\n",
       "    <tr style=\"text-align: right;\">\n",
       "      <th></th>\n",
       "      <th>k1</th>\n",
       "      <th>k2</th>\n",
       "      <th>k4</th>\n",
       "      <th>k5</th>\n",
       "    </tr>\n",
       "  </thead>\n",
       "  <tbody>\n",
       "    <tr>\n",
       "      <th>0</th>\n",
       "      <td>1</td>\n",
       "      <td>2</td>\n",
       "      <td>4</td>\n",
       "      <td>12</td>\n",
       "    </tr>\n",
       "    <tr>\n",
       "      <th>1</th>\n",
       "      <td>5</td>\n",
       "      <td>6</td>\n",
       "      <td>7</td>\n",
       "      <td>56</td>\n",
       "    </tr>\n",
       "    <tr>\n",
       "      <th>2</th>\n",
       "      <td>9</td>\n",
       "      <td>10</td>\n",
       "      <td>12</td>\n",
       "      <td>910</td>\n",
       "    </tr>\n",
       "  </tbody>\n",
       "</table>\n",
       "</div>"
      ],
      "text/plain": [
       "   k1  k2  k4   k5\n",
       "0   1   2   4   12\n",
       "1   5   6   7   56\n",
       "2   9  10  12  910"
      ]
     },
     "execution_count": 379,
     "metadata": {},
     "output_type": "execute_result"
    }
   ],
   "source": [
    "df"
   ]
  },
  {
   "cell_type": "code",
   "execution_count": 380,
   "metadata": {},
   "outputs": [
    {
     "data": {
      "text/html": [
       "<div>\n",
       "<style scoped>\n",
       "    .dataframe tbody tr th:only-of-type {\n",
       "        vertical-align: middle;\n",
       "    }\n",
       "\n",
       "    .dataframe tbody tr th {\n",
       "        vertical-align: top;\n",
       "    }\n",
       "\n",
       "    .dataframe thead th {\n",
       "        text-align: right;\n",
       "    }\n",
       "</style>\n",
       "<table border=\"1\" class=\"dataframe\">\n",
       "  <thead>\n",
       "    <tr style=\"text-align: right;\">\n",
       "      <th></th>\n",
       "      <th>k1</th>\n",
       "      <th>k2</th>\n",
       "      <th>k4</th>\n",
       "      <th>k5</th>\n",
       "      <th>k6</th>\n",
       "    </tr>\n",
       "  </thead>\n",
       "  <tbody>\n",
       "    <tr>\n",
       "      <th>0</th>\n",
       "      <td>1</td>\n",
       "      <td>2</td>\n",
       "      <td>4</td>\n",
       "      <td>12</td>\n",
       "      <td>3</td>\n",
       "    </tr>\n",
       "    <tr>\n",
       "      <th>1</th>\n",
       "      <td>5</td>\n",
       "      <td>6</td>\n",
       "      <td>7</td>\n",
       "      <td>56</td>\n",
       "      <td>11</td>\n",
       "    </tr>\n",
       "    <tr>\n",
       "      <th>2</th>\n",
       "      <td>9</td>\n",
       "      <td>10</td>\n",
       "      <td>12</td>\n",
       "      <td>910</td>\n",
       "      <td>19</td>\n",
       "    </tr>\n",
       "  </tbody>\n",
       "</table>\n",
       "</div>"
      ],
      "text/plain": [
       "   k1  k2  k4   k5  k6\n",
       "0   1   2   4   12   3\n",
       "1   5   6   7   56  11\n",
       "2   9  10  12  910  19"
      ]
     },
     "execution_count": 380,
     "metadata": {},
     "output_type": "execute_result"
    }
   ],
   "source": [
    "df['k6'] = df['k1'] + df['k2']              # Dodanie nowej kolumny\n",
    "df"
   ]
  },
  {
   "cell_type": "markdown",
   "metadata": {},
   "source": [
    "### Grupowanie danych\n",
    "Pandas umożliwia grupowanie danych i wykonywanie na nich operacji agregacyjnych."
   ]
  },
  {
   "cell_type": "code",
   "execution_count": 381,
   "metadata": {},
   "outputs": [
    {
     "data": {
      "text/html": [
       "<div>\n",
       "<style scoped>\n",
       "    .dataframe tbody tr th:only-of-type {\n",
       "        vertical-align: middle;\n",
       "    }\n",
       "\n",
       "    .dataframe tbody tr th {\n",
       "        vertical-align: top;\n",
       "    }\n",
       "\n",
       "    .dataframe thead th {\n",
       "        text-align: right;\n",
       "    }\n",
       "</style>\n",
       "<table border=\"1\" class=\"dataframe\">\n",
       "  <thead>\n",
       "    <tr style=\"text-align: right;\">\n",
       "      <th></th>\n",
       "      <th>Produkt</th>\n",
       "      <th>Kategoria</th>\n",
       "      <th>Sprzedaż</th>\n",
       "    </tr>\n",
       "  </thead>\n",
       "  <tbody>\n",
       "    <tr>\n",
       "      <th>0</th>\n",
       "      <td>A</td>\n",
       "      <td>X</td>\n",
       "      <td>100</td>\n",
       "    </tr>\n",
       "    <tr>\n",
       "      <th>1</th>\n",
       "      <td>B</td>\n",
       "      <td>X</td>\n",
       "      <td>150</td>\n",
       "    </tr>\n",
       "    <tr>\n",
       "      <th>2</th>\n",
       "      <td>A</td>\n",
       "      <td>Y</td>\n",
       "      <td>200</td>\n",
       "    </tr>\n",
       "    <tr>\n",
       "      <th>3</th>\n",
       "      <td>B</td>\n",
       "      <td>Y</td>\n",
       "      <td>300</td>\n",
       "    </tr>\n",
       "    <tr>\n",
       "      <th>4</th>\n",
       "      <td>A</td>\n",
       "      <td>X</td>\n",
       "      <td>250</td>\n",
       "    </tr>\n",
       "    <tr>\n",
       "      <th>5</th>\n",
       "      <td>C</td>\n",
       "      <td>Y</td>\n",
       "      <td>100</td>\n",
       "    </tr>\n",
       "    <tr>\n",
       "      <th>6</th>\n",
       "      <td>B</td>\n",
       "      <td>X</td>\n",
       "      <td>350</td>\n",
       "    </tr>\n",
       "    <tr>\n",
       "      <th>7</th>\n",
       "      <td>C</td>\n",
       "      <td>Y</td>\n",
       "      <td>400</td>\n",
       "    </tr>\n",
       "  </tbody>\n",
       "</table>\n",
       "</div>"
      ],
      "text/plain": [
       "  Produkt Kategoria  Sprzedaż\n",
       "0       A         X       100\n",
       "1       B         X       150\n",
       "2       A         Y       200\n",
       "3       B         Y       300\n",
       "4       A         X       250\n",
       "5       C         Y       100\n",
       "6       B         X       350\n",
       "7       C         Y       400"
      ]
     },
     "execution_count": 381,
     "metadata": {},
     "output_type": "execute_result"
    }
   ],
   "source": [
    "# Tworzenie przykładowego DataFrame\n",
    "data = {\n",
    "    'Produkt': ['A', 'B', 'A', 'B', 'A', 'C', 'B', 'C'],\n",
    "    'Kategoria': ['X', 'X', 'Y', 'Y', 'X', 'Y', 'X', 'Y'],\n",
    "    'Sprzedaż': [100, 150, 200, 300, 250, 100, 350, 400]\n",
    "}\n",
    "\n",
    "df = pd.DataFrame(data)\n",
    "df"
   ]
  },
  {
   "cell_type": "code",
   "execution_count": 382,
   "metadata": {},
   "outputs": [
    {
     "name": "stdout",
     "output_type": "stream",
     "text": [
      "\n",
      "Zgrupowane i zsumowane dane:\n",
      "  Kategoria  Sprzedaż\n",
      "0         X       850\n",
      "1         Y      1000\n"
     ]
    }
   ],
   "source": [
    "# Grupowanie według Kategorii i sumowanie Sprzedaży\n",
    "grupowane_df = df.groupby('Kategoria')['Sprzedaż'].sum().reset_index()\n",
    "\n",
    "print(\"\\nZgrupowane i zsumowane dane:\")\n",
    "print(grupowane_df)"
   ]
  },
  {
   "cell_type": "markdown",
   "metadata": {},
   "source": [
    "### Zapisywanie DataFrame do pliku CSV\n",
    "Pandas pozwala na łatwe zapisywanie danych do plików CSV."
   ]
  },
  {
   "cell_type": "code",
   "execution_count": 383,
   "metadata": {},
   "outputs": [],
   "source": [
    "df.to_csv('wyniki.csv', sep= \" \", index=False)  # Zapis do pliku CSV"
   ]
  },
  {
   "cell_type": "markdown",
   "metadata": {},
   "source": [
    "# **Zadania**"
   ]
  },
  {
   "cell_type": "markdown",
   "metadata": {},
   "source": [
    "(Te zadania nie są oceniane - Napisz dla własnej praktyki :) )\n",
    "1. Napisz funkcję, która przyjmuje listę i zwraca nową listę z unikalnymi elementami tej listy (bez powtórzeń).\n",
    "2. Napisz funkcję, która łączy dwie listy w jedną, usuwając duplikaty.\n",
    "3. Napisz funkcję, która znajduje wszystkie liczby pierwsze w zadanym zakresie (np. od 1 do 100).\n",
    "4. Napisz funkcję rekurencyjną, która zwraca n-ty wyraz ciągu Fibonacciego.\n",
    "5. Stwórz klasę Prostokat, która ma atrybuty dlugosc i szerokosc, oraz metody obliczające pole i obwód. Dodaj jeszzcze jedną metodę według uznania.\n",
    "6. Użyj list comprehension, aby stworzyć listę kwadratów liczb od 1 do 20.\n",
    "7. Napisz funkcję, która zapisuje listę liczb do pliku tekstowego.\n",
    "8. Napisz funkcję, która odczytuje liczby z pliku tekstowego i zwraca je jako listę.\n",
    "\n",
    "(Te zadania będą oceniane - Te musisz napisać :) )\n",
    "\n",
    "\n",
    "9. Stwórz tablicę NumPy i pomnóż ją przez wektor.\n",
    "10. Stwórz sub-tablicę z większej tablicy NumPy (np. 2x2 sub-tablica z 4x4 tablicy).\n",
    "11. Wygeneruj macierz losową o wymiarach 5x5, a następnie znajdź jej macierz odwrotną. Sprawdź, czy iloczyn macierzy i jej odwrotności daje macierz jednostkową.\n",
    "12. Utwórz dwie macierze 3x3 z losowymi wartościami i oblicz ich iloczyn macierzowy. Następnie dodaj do wyniku macierz jednostkową.\n",
    "13. Utwórz tablicę 2D z losowymi wartościami i oblicz średnią, medianę oraz odchylenie standardowe dla każdej kolumny.\n",
    "14. Wczytaj dane z pliku CSV zawierającego informacje o sprzedaży (np. plik sales_data.csv). Zastosuj metody head(), info(), describe() do analizy danych.\n",
    "15. Wykorzystaj dane o sprzedaży do grupowania według kategorii produktów. Oblicz łączną sprzedaż dla każdej kategorii oraz średnią cenę produktu.\n",
    "16. Filtruj dane o sprzedaży, aby znaleźć wszystkie transakcje, które miały miejsce w 2013 roku i miały wartość większą niż 3500. Wyświetl wyniki.\n",
    "17. Zmień nazwę kolumny \"Product\" na \"Product_Name\" w DataFrame. Użyj list comprehension.\n",
    "18. Dodaj nową kolumnę \"Rabat\", która będzie zawierać rabaty w wysokości 10% od wartości transakcji.\n",
    "19. Po wykonaniu wszystkich operacji na danych o sprzedaży, zapisz przetworzony DataFrame do nowego pliku CSV o nazwie processed_sales_data.csv.\n",
    "20. Użyj metody plot() do stworzenia wykresu słupkowego, który przedstawia łączną liczbę sprzedaży dla różnych kategorii produktów."
   ]
  }
 ],
 "metadata": {
  "kernelspec": {
   "display_name": "Python 3",
   "language": "python",
   "name": "python3"
  },
  "language_info": {
   "codemirror_mode": {
    "name": "ipython",
    "version": 3
   },
   "file_extension": ".py",
   "mimetype": "text/x-python",
   "name": "python",
   "nbconvert_exporter": "python",
   "pygments_lexer": "ipython3",
   "version": "3.10.11"
  }
 },
 "nbformat": 4,
 "nbformat_minor": 2
}
