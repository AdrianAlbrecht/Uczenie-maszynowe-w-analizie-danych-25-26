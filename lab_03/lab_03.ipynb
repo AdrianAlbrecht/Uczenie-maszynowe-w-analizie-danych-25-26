{
  "cells": [
    {
      "cell_type": "markdown",
      "metadata": {
        "id": "2cfk8BYegwp7"
      },
      "source": [
        "# Lab 3 - praca z atrybutami nienumerycznymi oraz skalowanie i transformacja wartości"
      ]
    },
    {
      "cell_type": "markdown",
      "metadata": {},
      "source": [
        "Kodowanie zmiennych kategorialnych na różne sposoby może znacząco wpływać na skuteczność modeli uczenia maszynowego. Przyjrzyjmy się dwóm popularnym metodom kodowania: **kodowanie etykietowe (Label Encoding)** oraz **One-Hot Encoding**.\n",
        "\n",
        "### Kodowanie etykietowe (Label Encoding)\n",
        "W tej metodzie każda kategoria jest mapowana na liczbę całkowitą. Na przykład dla zmiennej \"kolor\" z wartościami {czerwony, niebieski, zielony} można przypisać:\n",
        "- czerwony = 0\n",
        "- niebieski = 1\n",
        "- zielony = 2\n",
        "\n",
        "Jest to prosta metoda, ale niesie pewne zagrożenia, szczególnie dla modeli, które traktują zmienne numeryczne jako dane o porządku lub metryce.\n",
        "\n",
        "**Kiedy działa lepiej:**\n",
        "- Sprawdza się, gdy zmienna kategorialna rzeczywiście ma jakiś naturalny porządek (np. mały, średni, duży). \n",
        "- **Modele drzew decyzyjnych** (jak Random Forest, Gradient Boosting) dobrze sobie radzą z kodowaniem etykietowym, ponieważ są odporne na różnicę w liczbach między kategoriami.\n",
        "\n",
        "**Główne problemy:**\n",
        "- W modelach liniowych, sieciach neuronowych, SVM oraz k-nn, model może interpretować różnice liczbowe jako istotne, co może prowadzić do błędnych wniosków. Na przykład, wartość \"zielony\" = 2 może być traktowana jako dwukrotnie \"większa\" od wartości \"czerwony\" = 0, co jest nieprawidłowe, ponieważ kategorie nie mają porządku.\n",
        "\n",
        "### One-Hot Encoding\n",
        "W tej metodzie każda kategoria jest reprezentowana jako wektor binarny. Dla przykładu:\n",
        "- czerwony = [1, 0, 0]\n",
        "- niebieski = [0, 1, 0]\n",
        "- zielony = [0, 0, 1]\n",
        "\n",
        "Każda kategoria jest reprezentowana przez osobną kolumnę, a w odpowiedniej kolumnie jest wartość 1, natomiast w pozostałych kolumnach – 0.\n",
        "\n",
        "**Kiedy działa lepiej:**\n",
        "- **Modele liniowe**, sieci neuronowe oraz algorytmy oparte na odległościach, takie jak k-NN i SVM, preferują One-Hot Encoding, ponieważ zmienne binarne eliminują problem nieprawidłowego odczytu różnic liczbowych między kategoriami. Każda kategoria jest traktowana równorzędnie i nie tworzy relacji porządkowych.\n",
        "- Może lepiej działać, gdy masz do czynienia z dużą liczbą kategorii, które nie są uporządkowane.\n",
        "\n",
        "**Główne problemy:**\n",
        "- Zwiększa liczbę cech w danych. Jeśli mamy zmienną z wieloma kategoriami, np. 1000 różnych wartości, One-Hot Encoding może znacząco zwiększyć rozmiar macierzy cech, co prowadzi do większego zużycia pamięci i spowolnienia obliczeń.\n",
        "\n",
        "### Podsumowanie\n",
        "1. **Kodowanie etykietowe** jest prostsze i bardziej efektywne dla modeli drzewiastych, które nie mają problemu z interpretacją wartości liczbowych.\n",
        "2. **One-Hot Encoding** jest bardziej odpowiednie dla modeli liniowych, sieci neuronowych i algorytmów, które wymagają niezależnych, równorzędnych cech.\n",
        "\n",
        "Wybór odpowiedniej metody kodowania zależy od modelu, którego używasz, oraz charakterystyki danych."
      ]
    },
    {
      "cell_type": "markdown",
      "metadata": {
        "id": "CkxsWrLUjEd-"
      },
      "source": [
        "## Dane tekstowe\n",
        "\n",
        "W zbiorach danych często pojawiają się dane tekstowe mające charakter kategorialny. Z uwagi na fakt, że algorytmy uczenia maszynowego operują tylko i wyłącznie na wartościach numerycznych, dane tekstowe wymagają przetworzenia do postaci liczbowej. W takiej sytuacji z pomocą przychodzi klasa `OrdinalEncoder` zawarta w module `preprocessing` biblioteki `Scikit-learn`."
      ]
    },
    {
      "cell_type": "code",
      "execution_count": 39,
      "metadata": {
        "ExecuteTime": {
          "end_time": "2023-12-04T09:36:43.450987Z",
          "start_time": "2023-12-04T09:36:29.570936Z"
        },
        "id": "nYLRWFuLgu1I"
      },
      "outputs": [],
      "source": [
        "from sklearn.datasets import fetch_kddcup99\n",
        "\n",
        "data = fetch_kddcup99(as_frame=True)['frame']"
      ]
    },
    {
      "cell_type": "code",
      "execution_count": 31,
      "metadata": {
        "ExecuteTime": {
          "end_time": "2023-12-04T09:36:43.858709Z",
          "start_time": "2023-12-04T09:36:43.450789Z"
        },
        "colab": {
          "base_uri": "https://localhost:8080/",
          "height": 439
        },
        "id": "r5aU8JiDkn4y",
        "outputId": "2137e615-6a90-4ba6-a345-c4874cb73088"
      },
      "outputs": [
        {
          "data": {
            "text/html": [
              "<div>\n",
              "<style scoped>\n",
              "    .dataframe tbody tr th:only-of-type {\n",
              "        vertical-align: middle;\n",
              "    }\n",
              "\n",
              "    .dataframe tbody tr th {\n",
              "        vertical-align: top;\n",
              "    }\n",
              "\n",
              "    .dataframe thead th {\n",
              "        text-align: right;\n",
              "    }\n",
              "</style>\n",
              "<table border=\"1\" class=\"dataframe\">\n",
              "  <thead>\n",
              "    <tr style=\"text-align: right;\">\n",
              "      <th></th>\n",
              "      <th>duration</th>\n",
              "      <th>protocol_type</th>\n",
              "      <th>service</th>\n",
              "      <th>flag</th>\n",
              "      <th>src_bytes</th>\n",
              "      <th>dst_bytes</th>\n",
              "      <th>land</th>\n",
              "      <th>wrong_fragment</th>\n",
              "      <th>urgent</th>\n",
              "      <th>hot</th>\n",
              "      <th>...</th>\n",
              "      <th>dst_host_srv_count</th>\n",
              "      <th>dst_host_same_srv_rate</th>\n",
              "      <th>dst_host_diff_srv_rate</th>\n",
              "      <th>dst_host_same_src_port_rate</th>\n",
              "      <th>dst_host_srv_diff_host_rate</th>\n",
              "      <th>dst_host_serror_rate</th>\n",
              "      <th>dst_host_srv_serror_rate</th>\n",
              "      <th>dst_host_rerror_rate</th>\n",
              "      <th>dst_host_srv_rerror_rate</th>\n",
              "      <th>labels</th>\n",
              "    </tr>\n",
              "  </thead>\n",
              "  <tbody>\n",
              "    <tr>\n",
              "      <th>0</th>\n",
              "      <td>0</td>\n",
              "      <td>b'tcp'</td>\n",
              "      <td>b'http'</td>\n",
              "      <td>b'SF'</td>\n",
              "      <td>181</td>\n",
              "      <td>5450</td>\n",
              "      <td>0</td>\n",
              "      <td>0</td>\n",
              "      <td>0</td>\n",
              "      <td>0</td>\n",
              "      <td>...</td>\n",
              "      <td>9</td>\n",
              "      <td>1.0</td>\n",
              "      <td>0.0</td>\n",
              "      <td>0.11</td>\n",
              "      <td>0.0</td>\n",
              "      <td>0.0</td>\n",
              "      <td>0.0</td>\n",
              "      <td>0.0</td>\n",
              "      <td>0.0</td>\n",
              "      <td>b'normal.'</td>\n",
              "    </tr>\n",
              "    <tr>\n",
              "      <th>1</th>\n",
              "      <td>0</td>\n",
              "      <td>b'tcp'</td>\n",
              "      <td>b'http'</td>\n",
              "      <td>b'SF'</td>\n",
              "      <td>239</td>\n",
              "      <td>486</td>\n",
              "      <td>0</td>\n",
              "      <td>0</td>\n",
              "      <td>0</td>\n",
              "      <td>0</td>\n",
              "      <td>...</td>\n",
              "      <td>19</td>\n",
              "      <td>1.0</td>\n",
              "      <td>0.0</td>\n",
              "      <td>0.05</td>\n",
              "      <td>0.0</td>\n",
              "      <td>0.0</td>\n",
              "      <td>0.0</td>\n",
              "      <td>0.0</td>\n",
              "      <td>0.0</td>\n",
              "      <td>b'normal.'</td>\n",
              "    </tr>\n",
              "    <tr>\n",
              "      <th>2</th>\n",
              "      <td>0</td>\n",
              "      <td>b'tcp'</td>\n",
              "      <td>b'http'</td>\n",
              "      <td>b'SF'</td>\n",
              "      <td>235</td>\n",
              "      <td>1337</td>\n",
              "      <td>0</td>\n",
              "      <td>0</td>\n",
              "      <td>0</td>\n",
              "      <td>0</td>\n",
              "      <td>...</td>\n",
              "      <td>29</td>\n",
              "      <td>1.0</td>\n",
              "      <td>0.0</td>\n",
              "      <td>0.03</td>\n",
              "      <td>0.0</td>\n",
              "      <td>0.0</td>\n",
              "      <td>0.0</td>\n",
              "      <td>0.0</td>\n",
              "      <td>0.0</td>\n",
              "      <td>b'normal.'</td>\n",
              "    </tr>\n",
              "    <tr>\n",
              "      <th>3</th>\n",
              "      <td>0</td>\n",
              "      <td>b'tcp'</td>\n",
              "      <td>b'http'</td>\n",
              "      <td>b'SF'</td>\n",
              "      <td>219</td>\n",
              "      <td>1337</td>\n",
              "      <td>0</td>\n",
              "      <td>0</td>\n",
              "      <td>0</td>\n",
              "      <td>0</td>\n",
              "      <td>...</td>\n",
              "      <td>39</td>\n",
              "      <td>1.0</td>\n",
              "      <td>0.0</td>\n",
              "      <td>0.03</td>\n",
              "      <td>0.0</td>\n",
              "      <td>0.0</td>\n",
              "      <td>0.0</td>\n",
              "      <td>0.0</td>\n",
              "      <td>0.0</td>\n",
              "      <td>b'normal.'</td>\n",
              "    </tr>\n",
              "    <tr>\n",
              "      <th>4</th>\n",
              "      <td>0</td>\n",
              "      <td>b'tcp'</td>\n",
              "      <td>b'http'</td>\n",
              "      <td>b'SF'</td>\n",
              "      <td>217</td>\n",
              "      <td>2032</td>\n",
              "      <td>0</td>\n",
              "      <td>0</td>\n",
              "      <td>0</td>\n",
              "      <td>0</td>\n",
              "      <td>...</td>\n",
              "      <td>49</td>\n",
              "      <td>1.0</td>\n",
              "      <td>0.0</td>\n",
              "      <td>0.02</td>\n",
              "      <td>0.0</td>\n",
              "      <td>0.0</td>\n",
              "      <td>0.0</td>\n",
              "      <td>0.0</td>\n",
              "      <td>0.0</td>\n",
              "      <td>b'normal.'</td>\n",
              "    </tr>\n",
              "    <tr>\n",
              "      <th>...</th>\n",
              "      <td>...</td>\n",
              "      <td>...</td>\n",
              "      <td>...</td>\n",
              "      <td>...</td>\n",
              "      <td>...</td>\n",
              "      <td>...</td>\n",
              "      <td>...</td>\n",
              "      <td>...</td>\n",
              "      <td>...</td>\n",
              "      <td>...</td>\n",
              "      <td>...</td>\n",
              "      <td>...</td>\n",
              "      <td>...</td>\n",
              "      <td>...</td>\n",
              "      <td>...</td>\n",
              "      <td>...</td>\n",
              "      <td>...</td>\n",
              "      <td>...</td>\n",
              "      <td>...</td>\n",
              "      <td>...</td>\n",
              "      <td>...</td>\n",
              "    </tr>\n",
              "    <tr>\n",
              "      <th>494016</th>\n",
              "      <td>0</td>\n",
              "      <td>b'tcp'</td>\n",
              "      <td>b'http'</td>\n",
              "      <td>b'SF'</td>\n",
              "      <td>310</td>\n",
              "      <td>1881</td>\n",
              "      <td>0</td>\n",
              "      <td>0</td>\n",
              "      <td>0</td>\n",
              "      <td>0</td>\n",
              "      <td>...</td>\n",
              "      <td>255</td>\n",
              "      <td>1.0</td>\n",
              "      <td>0.0</td>\n",
              "      <td>0.01</td>\n",
              "      <td>0.05</td>\n",
              "      <td>0.0</td>\n",
              "      <td>0.01</td>\n",
              "      <td>0.0</td>\n",
              "      <td>0.0</td>\n",
              "      <td>b'normal.'</td>\n",
              "    </tr>\n",
              "    <tr>\n",
              "      <th>494017</th>\n",
              "      <td>0</td>\n",
              "      <td>b'tcp'</td>\n",
              "      <td>b'http'</td>\n",
              "      <td>b'SF'</td>\n",
              "      <td>282</td>\n",
              "      <td>2286</td>\n",
              "      <td>0</td>\n",
              "      <td>0</td>\n",
              "      <td>0</td>\n",
              "      <td>0</td>\n",
              "      <td>...</td>\n",
              "      <td>255</td>\n",
              "      <td>1.0</td>\n",
              "      <td>0.0</td>\n",
              "      <td>0.17</td>\n",
              "      <td>0.05</td>\n",
              "      <td>0.0</td>\n",
              "      <td>0.01</td>\n",
              "      <td>0.0</td>\n",
              "      <td>0.0</td>\n",
              "      <td>b'normal.'</td>\n",
              "    </tr>\n",
              "    <tr>\n",
              "      <th>494018</th>\n",
              "      <td>0</td>\n",
              "      <td>b'tcp'</td>\n",
              "      <td>b'http'</td>\n",
              "      <td>b'SF'</td>\n",
              "      <td>203</td>\n",
              "      <td>1200</td>\n",
              "      <td>0</td>\n",
              "      <td>0</td>\n",
              "      <td>0</td>\n",
              "      <td>0</td>\n",
              "      <td>...</td>\n",
              "      <td>255</td>\n",
              "      <td>1.0</td>\n",
              "      <td>0.0</td>\n",
              "      <td>0.06</td>\n",
              "      <td>0.05</td>\n",
              "      <td>0.06</td>\n",
              "      <td>0.01</td>\n",
              "      <td>0.0</td>\n",
              "      <td>0.0</td>\n",
              "      <td>b'normal.'</td>\n",
              "    </tr>\n",
              "    <tr>\n",
              "      <th>494019</th>\n",
              "      <td>0</td>\n",
              "      <td>b'tcp'</td>\n",
              "      <td>b'http'</td>\n",
              "      <td>b'SF'</td>\n",
              "      <td>291</td>\n",
              "      <td>1200</td>\n",
              "      <td>0</td>\n",
              "      <td>0</td>\n",
              "      <td>0</td>\n",
              "      <td>0</td>\n",
              "      <td>...</td>\n",
              "      <td>255</td>\n",
              "      <td>1.0</td>\n",
              "      <td>0.0</td>\n",
              "      <td>0.04</td>\n",
              "      <td>0.05</td>\n",
              "      <td>0.04</td>\n",
              "      <td>0.01</td>\n",
              "      <td>0.0</td>\n",
              "      <td>0.0</td>\n",
              "      <td>b'normal.'</td>\n",
              "    </tr>\n",
              "    <tr>\n",
              "      <th>494020</th>\n",
              "      <td>0</td>\n",
              "      <td>b'tcp'</td>\n",
              "      <td>b'http'</td>\n",
              "      <td>b'SF'</td>\n",
              "      <td>219</td>\n",
              "      <td>1234</td>\n",
              "      <td>0</td>\n",
              "      <td>0</td>\n",
              "      <td>0</td>\n",
              "      <td>0</td>\n",
              "      <td>...</td>\n",
              "      <td>255</td>\n",
              "      <td>1.0</td>\n",
              "      <td>0.0</td>\n",
              "      <td>0.17</td>\n",
              "      <td>0.05</td>\n",
              "      <td>0.0</td>\n",
              "      <td>0.01</td>\n",
              "      <td>0.0</td>\n",
              "      <td>0.0</td>\n",
              "      <td>b'normal.'</td>\n",
              "    </tr>\n",
              "  </tbody>\n",
              "</table>\n",
              "<p>494021 rows × 42 columns</p>\n",
              "</div>"
            ],
            "text/plain": [
              "       duration protocol_type  service   flag src_bytes dst_bytes land  \\\n",
              "0             0        b'tcp'  b'http'  b'SF'       181      5450    0   \n",
              "1             0        b'tcp'  b'http'  b'SF'       239       486    0   \n",
              "2             0        b'tcp'  b'http'  b'SF'       235      1337    0   \n",
              "3             0        b'tcp'  b'http'  b'SF'       219      1337    0   \n",
              "4             0        b'tcp'  b'http'  b'SF'       217      2032    0   \n",
              "...         ...           ...      ...    ...       ...       ...  ...   \n",
              "494016        0        b'tcp'  b'http'  b'SF'       310      1881    0   \n",
              "494017        0        b'tcp'  b'http'  b'SF'       282      2286    0   \n",
              "494018        0        b'tcp'  b'http'  b'SF'       203      1200    0   \n",
              "494019        0        b'tcp'  b'http'  b'SF'       291      1200    0   \n",
              "494020        0        b'tcp'  b'http'  b'SF'       219      1234    0   \n",
              "\n",
              "       wrong_fragment urgent hot  ... dst_host_srv_count  \\\n",
              "0                   0      0   0  ...                  9   \n",
              "1                   0      0   0  ...                 19   \n",
              "2                   0      0   0  ...                 29   \n",
              "3                   0      0   0  ...                 39   \n",
              "4                   0      0   0  ...                 49   \n",
              "...               ...    ...  ..  ...                ...   \n",
              "494016              0      0   0  ...                255   \n",
              "494017              0      0   0  ...                255   \n",
              "494018              0      0   0  ...                255   \n",
              "494019              0      0   0  ...                255   \n",
              "494020              0      0   0  ...                255   \n",
              "\n",
              "       dst_host_same_srv_rate dst_host_diff_srv_rate  \\\n",
              "0                         1.0                    0.0   \n",
              "1                         1.0                    0.0   \n",
              "2                         1.0                    0.0   \n",
              "3                         1.0                    0.0   \n",
              "4                         1.0                    0.0   \n",
              "...                       ...                    ...   \n",
              "494016                    1.0                    0.0   \n",
              "494017                    1.0                    0.0   \n",
              "494018                    1.0                    0.0   \n",
              "494019                    1.0                    0.0   \n",
              "494020                    1.0                    0.0   \n",
              "\n",
              "       dst_host_same_src_port_rate dst_host_srv_diff_host_rate  \\\n",
              "0                             0.11                         0.0   \n",
              "1                             0.05                         0.0   \n",
              "2                             0.03                         0.0   \n",
              "3                             0.03                         0.0   \n",
              "4                             0.02                         0.0   \n",
              "...                            ...                         ...   \n",
              "494016                        0.01                        0.05   \n",
              "494017                        0.17                        0.05   \n",
              "494018                        0.06                        0.05   \n",
              "494019                        0.04                        0.05   \n",
              "494020                        0.17                        0.05   \n",
              "\n",
              "       dst_host_serror_rate dst_host_srv_serror_rate dst_host_rerror_rate  \\\n",
              "0                       0.0                      0.0                  0.0   \n",
              "1                       0.0                      0.0                  0.0   \n",
              "2                       0.0                      0.0                  0.0   \n",
              "3                       0.0                      0.0                  0.0   \n",
              "4                       0.0                      0.0                  0.0   \n",
              "...                     ...                      ...                  ...   \n",
              "494016                  0.0                     0.01                  0.0   \n",
              "494017                  0.0                     0.01                  0.0   \n",
              "494018                 0.06                     0.01                  0.0   \n",
              "494019                 0.04                     0.01                  0.0   \n",
              "494020                  0.0                     0.01                  0.0   \n",
              "\n",
              "       dst_host_srv_rerror_rate      labels  \n",
              "0                           0.0  b'normal.'  \n",
              "1                           0.0  b'normal.'  \n",
              "2                           0.0  b'normal.'  \n",
              "3                           0.0  b'normal.'  \n",
              "4                           0.0  b'normal.'  \n",
              "...                         ...         ...  \n",
              "494016                      0.0  b'normal.'  \n",
              "494017                      0.0  b'normal.'  \n",
              "494018                      0.0  b'normal.'  \n",
              "494019                      0.0  b'normal.'  \n",
              "494020                      0.0  b'normal.'  \n",
              "\n",
              "[494021 rows x 42 columns]"
            ]
          },
          "execution_count": 31,
          "metadata": {},
          "output_type": "execute_result"
        }
      ],
      "source": [
        "data"
      ]
    },
    {
      "cell_type": "markdown",
      "metadata": {},
      "source": [
        "Jak widzimy w powyższej ramce danych znajdują się 4 kolumny z wartościami nienumerycznymi:\n",
        "- protocol_type,\n",
        "- service,\n",
        "- flag,\n",
        "- labels.\n",
        "\n",
        "Spróbujmy zatem dopasować nasz Encoder do danych i przetransformowac dane, tak jak robiliśmy to w trakcie czyszczenia danych."
      ]
    },
    {
      "cell_type": "markdown",
      "metadata": {
        "id": "PF6cPR5EoQ4V"
      },
      "source": [
        "Interfejs biblioteki `Scikit-learn` umożliwia alternatywne wywoływanie metod `fit` oraz `transform`, które występują po sobie w postaci `fit_transform`."
      ]
    },
    {
      "cell_type": "code",
      "execution_count": 3,
      "metadata": {
        "id": "faBZNQCilyrm"
      },
      "outputs": [],
      "source": [
        "from sklearn.preprocessing import OrdinalEncoder\n",
        "\n",
        "encoder = OrdinalEncoder()\n",
        "labels = encoder.fit_transform(data[['protocol_type']])"
      ]
    },
    {
      "cell_type": "code",
      "execution_count": 4,
      "metadata": {
        "colab": {
          "base_uri": "https://localhost:8080/"
        },
        "id": "iKnYWk2Wo3TJ",
        "outputId": "f4eefc60-09f0-4082-cbff-454644c6d840"
      },
      "outputs": [
        {
          "data": {
            "text/plain": [
              "array([[1.],\n",
              "       [1.],\n",
              "       [1.],\n",
              "       ...,\n",
              "       [1.],\n",
              "       [1.],\n",
              "       [1.]])"
            ]
          },
          "execution_count": 4,
          "metadata": {},
          "output_type": "execute_result"
        }
      ],
      "source": [
        "labels"
      ]
    },
    {
      "cell_type": "markdown",
      "metadata": {
        "id": "TsJ_z0Tkog_A"
      },
      "source": [
        "Uzyskane wartości numeryczne przypisane poszczególnym wartościom tekstowym znalazły się w obiekcie `labels`. Uzyskane wartości można z powodzeniem wykorzystać w ramce danych. Klucz, według którego wartości tekstowe były transformowane do wartości numerycznych znajduje się w atrybucie `categories_` obiektu `encoder`, gdzie pozycja tablicy odpowiada przypisanej liczbie."
      ]
    },
    {
      "cell_type": "code",
      "execution_count": 5,
      "metadata": {
        "colab": {
          "base_uri": "https://localhost:8080/"
        },
        "id": "dMxIBVqgn8Me",
        "outputId": "f50ea1db-6db1-4512-b419-64fe52b89653"
      },
      "outputs": [
        {
          "data": {
            "text/plain": [
              "[array([b'icmp', b'tcp', b'udp'], dtype=object)]"
            ]
          },
          "execution_count": 5,
          "metadata": {},
          "output_type": "execute_result"
        }
      ],
      "source": [
        "encoder.categories_"
      ]
    },
    {
      "cell_type": "markdown",
      "metadata": {
        "id": "GfjiAuzZqVvq"
      },
      "source": [
        "Algorytmy uczące się posiadają zdolność do rozpoznawania wzorców definiowalnych przez liczby. W związku z tym niektóre z nich mogą bardziej istotnie traktować wartość liczbową przypisaną protokołowi UDP niż protokołowi ICMP. W związku z tym warto rozważyć zastosowanie tzw. **kodowanie gorącojedynkowe**, które polega na utworzeniu wektora rzadkiego o rozmiarze *n* (n = liczba różnych wartości tekstowych) z jedną jedynką na pozycji wskazującej daną kategorię. W tym celu należy wykorzystać klasę `OneHotEncoder`."
      ]
    },
    {
      "cell_type": "code",
      "execution_count": 6,
      "metadata": {
        "id": "r-uTddnYpFAK"
      },
      "outputs": [],
      "source": [
        "from sklearn.preprocessing import OneHotEncoder\n",
        "\n",
        "encoder = OneHotEncoder()\n",
        "protocol_onehot = encoder.fit_transform(data[['protocol_type']])"
      ]
    },
    {
      "cell_type": "markdown",
      "metadata": {
        "id": "jmM9AmqBuVQW"
      },
      "source": [
        "Wynikiem jest obiekt zawierający macierz rzadką, co niesie korzyść w postaci oszczędności pamięci. Za pomocą metody `toarray()` można jednak dokonać transformacji do postaci tablicy numpy."
      ]
    },
    {
      "cell_type": "code",
      "execution_count": 7,
      "metadata": {
        "colab": {
          "base_uri": "https://localhost:8080/"
        },
        "id": "6TQhhektuSM5",
        "outputId": "3b22a51f-415f-4af8-93be-27c9fbdb28cb"
      },
      "outputs": [
        {
          "data": {
            "text/plain": [
              "<494021x3 sparse matrix of type '<class 'numpy.float64'>'\n",
              "\twith 494021 stored elements in Compressed Sparse Row format>"
            ]
          },
          "execution_count": 7,
          "metadata": {},
          "output_type": "execute_result"
        }
      ],
      "source": [
        "protocol_onehot"
      ]
    },
    {
      "cell_type": "code",
      "execution_count": 8,
      "metadata": {
        "colab": {
          "base_uri": "https://localhost:8080/"
        },
        "id": "uMrFWBjeuTQx",
        "outputId": "238b9278-48f8-43d1-e5ec-7af73b31f64d"
      },
      "outputs": [
        {
          "data": {
            "text/plain": [
              "array([[0., 1., 0.],\n",
              "       [0., 1., 0.],\n",
              "       [0., 1., 0.],\n",
              "       ...,\n",
              "       [0., 1., 0.],\n",
              "       [0., 1., 0.],\n",
              "       [0., 1., 0.]])"
            ]
          },
          "execution_count": 8,
          "metadata": {},
          "output_type": "execute_result"
        }
      ],
      "source": [
        "protocol_onehot.toarray()"
      ]
    },
    {
      "cell_type": "markdown",
      "metadata": {
        "id": "jjARsVAYurpQ"
      },
      "source": [
        "Zastąpienie oryginalnego atrybutu wersją gorącojedynkową niesie za sobą zwiększenie ogólnej liczby atrybutów w ramce. Na każdą kategorię powstaje w takiej sytuacji jeden atrybut. Poniżej zastosowano metodę `get_feature_names_out()`, która zawiera pierwotne wartości kolumny i podane są w kolejności w jakiej są uporządkowane w kolumnach w nowej wersji ramki."
      ]
    },
    {
      "cell_type": "code",
      "execution_count": 9,
      "metadata": {
        "id": "Ie1SGmF2ukaz"
      },
      "outputs": [],
      "source": [
        "import pandas as pd\n",
        "\n",
        "onehot_df = pd.DataFrame(\n",
        "    protocol_onehot.toarray(),\n",
        "    columns=encoder.get_feature_names_out(),\n",
        "    index=data.index\n",
        "    )"
      ]
    },
    {
      "cell_type": "code",
      "execution_count": 10,
      "metadata": {
        "id": "EBtmsKZ3xlV3"
      },
      "outputs": [],
      "source": [
        "data = data.join(onehot_df)"
      ]
    },
    {
      "cell_type": "code",
      "execution_count": 11,
      "metadata": {
        "colab": {
          "base_uri": "https://localhost:8080/",
          "height": 439
        },
        "id": "NGLMFEvVx5SE",
        "outputId": "52e65f8d-a9b0-4c26-ce8d-6b9e7195d140"
      },
      "outputs": [
        {
          "data": {
            "text/html": [
              "<div>\n",
              "<style scoped>\n",
              "    .dataframe tbody tr th:only-of-type {\n",
              "        vertical-align: middle;\n",
              "    }\n",
              "\n",
              "    .dataframe tbody tr th {\n",
              "        vertical-align: top;\n",
              "    }\n",
              "\n",
              "    .dataframe thead th {\n",
              "        text-align: right;\n",
              "    }\n",
              "</style>\n",
              "<table border=\"1\" class=\"dataframe\">\n",
              "  <thead>\n",
              "    <tr style=\"text-align: right;\">\n",
              "      <th></th>\n",
              "      <th>duration</th>\n",
              "      <th>protocol_type</th>\n",
              "      <th>service</th>\n",
              "      <th>flag</th>\n",
              "      <th>src_bytes</th>\n",
              "      <th>dst_bytes</th>\n",
              "      <th>land</th>\n",
              "      <th>wrong_fragment</th>\n",
              "      <th>urgent</th>\n",
              "      <th>hot</th>\n",
              "      <th>...</th>\n",
              "      <th>dst_host_same_src_port_rate</th>\n",
              "      <th>dst_host_srv_diff_host_rate</th>\n",
              "      <th>dst_host_serror_rate</th>\n",
              "      <th>dst_host_srv_serror_rate</th>\n",
              "      <th>dst_host_rerror_rate</th>\n",
              "      <th>dst_host_srv_rerror_rate</th>\n",
              "      <th>labels</th>\n",
              "      <th>protocol_type_b'icmp'</th>\n",
              "      <th>protocol_type_b'tcp'</th>\n",
              "      <th>protocol_type_b'udp'</th>\n",
              "    </tr>\n",
              "  </thead>\n",
              "  <tbody>\n",
              "    <tr>\n",
              "      <th>0</th>\n",
              "      <td>0</td>\n",
              "      <td>b'tcp'</td>\n",
              "      <td>b'http'</td>\n",
              "      <td>b'SF'</td>\n",
              "      <td>181</td>\n",
              "      <td>5450</td>\n",
              "      <td>0</td>\n",
              "      <td>0</td>\n",
              "      <td>0</td>\n",
              "      <td>0</td>\n",
              "      <td>...</td>\n",
              "      <td>0.11</td>\n",
              "      <td>0.0</td>\n",
              "      <td>0.0</td>\n",
              "      <td>0.0</td>\n",
              "      <td>0.0</td>\n",
              "      <td>0.0</td>\n",
              "      <td>b'normal.'</td>\n",
              "      <td>0.0</td>\n",
              "      <td>1.0</td>\n",
              "      <td>0.0</td>\n",
              "    </tr>\n",
              "    <tr>\n",
              "      <th>1</th>\n",
              "      <td>0</td>\n",
              "      <td>b'tcp'</td>\n",
              "      <td>b'http'</td>\n",
              "      <td>b'SF'</td>\n",
              "      <td>239</td>\n",
              "      <td>486</td>\n",
              "      <td>0</td>\n",
              "      <td>0</td>\n",
              "      <td>0</td>\n",
              "      <td>0</td>\n",
              "      <td>...</td>\n",
              "      <td>0.05</td>\n",
              "      <td>0.0</td>\n",
              "      <td>0.0</td>\n",
              "      <td>0.0</td>\n",
              "      <td>0.0</td>\n",
              "      <td>0.0</td>\n",
              "      <td>b'normal.'</td>\n",
              "      <td>0.0</td>\n",
              "      <td>1.0</td>\n",
              "      <td>0.0</td>\n",
              "    </tr>\n",
              "    <tr>\n",
              "      <th>2</th>\n",
              "      <td>0</td>\n",
              "      <td>b'tcp'</td>\n",
              "      <td>b'http'</td>\n",
              "      <td>b'SF'</td>\n",
              "      <td>235</td>\n",
              "      <td>1337</td>\n",
              "      <td>0</td>\n",
              "      <td>0</td>\n",
              "      <td>0</td>\n",
              "      <td>0</td>\n",
              "      <td>...</td>\n",
              "      <td>0.03</td>\n",
              "      <td>0.0</td>\n",
              "      <td>0.0</td>\n",
              "      <td>0.0</td>\n",
              "      <td>0.0</td>\n",
              "      <td>0.0</td>\n",
              "      <td>b'normal.'</td>\n",
              "      <td>0.0</td>\n",
              "      <td>1.0</td>\n",
              "      <td>0.0</td>\n",
              "    </tr>\n",
              "    <tr>\n",
              "      <th>3</th>\n",
              "      <td>0</td>\n",
              "      <td>b'tcp'</td>\n",
              "      <td>b'http'</td>\n",
              "      <td>b'SF'</td>\n",
              "      <td>219</td>\n",
              "      <td>1337</td>\n",
              "      <td>0</td>\n",
              "      <td>0</td>\n",
              "      <td>0</td>\n",
              "      <td>0</td>\n",
              "      <td>...</td>\n",
              "      <td>0.03</td>\n",
              "      <td>0.0</td>\n",
              "      <td>0.0</td>\n",
              "      <td>0.0</td>\n",
              "      <td>0.0</td>\n",
              "      <td>0.0</td>\n",
              "      <td>b'normal.'</td>\n",
              "      <td>0.0</td>\n",
              "      <td>1.0</td>\n",
              "      <td>0.0</td>\n",
              "    </tr>\n",
              "    <tr>\n",
              "      <th>4</th>\n",
              "      <td>0</td>\n",
              "      <td>b'tcp'</td>\n",
              "      <td>b'http'</td>\n",
              "      <td>b'SF'</td>\n",
              "      <td>217</td>\n",
              "      <td>2032</td>\n",
              "      <td>0</td>\n",
              "      <td>0</td>\n",
              "      <td>0</td>\n",
              "      <td>0</td>\n",
              "      <td>...</td>\n",
              "      <td>0.02</td>\n",
              "      <td>0.0</td>\n",
              "      <td>0.0</td>\n",
              "      <td>0.0</td>\n",
              "      <td>0.0</td>\n",
              "      <td>0.0</td>\n",
              "      <td>b'normal.'</td>\n",
              "      <td>0.0</td>\n",
              "      <td>1.0</td>\n",
              "      <td>0.0</td>\n",
              "    </tr>\n",
              "    <tr>\n",
              "      <th>...</th>\n",
              "      <td>...</td>\n",
              "      <td>...</td>\n",
              "      <td>...</td>\n",
              "      <td>...</td>\n",
              "      <td>...</td>\n",
              "      <td>...</td>\n",
              "      <td>...</td>\n",
              "      <td>...</td>\n",
              "      <td>...</td>\n",
              "      <td>...</td>\n",
              "      <td>...</td>\n",
              "      <td>...</td>\n",
              "      <td>...</td>\n",
              "      <td>...</td>\n",
              "      <td>...</td>\n",
              "      <td>...</td>\n",
              "      <td>...</td>\n",
              "      <td>...</td>\n",
              "      <td>...</td>\n",
              "      <td>...</td>\n",
              "      <td>...</td>\n",
              "    </tr>\n",
              "    <tr>\n",
              "      <th>494016</th>\n",
              "      <td>0</td>\n",
              "      <td>b'tcp'</td>\n",
              "      <td>b'http'</td>\n",
              "      <td>b'SF'</td>\n",
              "      <td>310</td>\n",
              "      <td>1881</td>\n",
              "      <td>0</td>\n",
              "      <td>0</td>\n",
              "      <td>0</td>\n",
              "      <td>0</td>\n",
              "      <td>...</td>\n",
              "      <td>0.01</td>\n",
              "      <td>0.05</td>\n",
              "      <td>0.0</td>\n",
              "      <td>0.01</td>\n",
              "      <td>0.0</td>\n",
              "      <td>0.0</td>\n",
              "      <td>b'normal.'</td>\n",
              "      <td>0.0</td>\n",
              "      <td>1.0</td>\n",
              "      <td>0.0</td>\n",
              "    </tr>\n",
              "    <tr>\n",
              "      <th>494017</th>\n",
              "      <td>0</td>\n",
              "      <td>b'tcp'</td>\n",
              "      <td>b'http'</td>\n",
              "      <td>b'SF'</td>\n",
              "      <td>282</td>\n",
              "      <td>2286</td>\n",
              "      <td>0</td>\n",
              "      <td>0</td>\n",
              "      <td>0</td>\n",
              "      <td>0</td>\n",
              "      <td>...</td>\n",
              "      <td>0.17</td>\n",
              "      <td>0.05</td>\n",
              "      <td>0.0</td>\n",
              "      <td>0.01</td>\n",
              "      <td>0.0</td>\n",
              "      <td>0.0</td>\n",
              "      <td>b'normal.'</td>\n",
              "      <td>0.0</td>\n",
              "      <td>1.0</td>\n",
              "      <td>0.0</td>\n",
              "    </tr>\n",
              "    <tr>\n",
              "      <th>494018</th>\n",
              "      <td>0</td>\n",
              "      <td>b'tcp'</td>\n",
              "      <td>b'http'</td>\n",
              "      <td>b'SF'</td>\n",
              "      <td>203</td>\n",
              "      <td>1200</td>\n",
              "      <td>0</td>\n",
              "      <td>0</td>\n",
              "      <td>0</td>\n",
              "      <td>0</td>\n",
              "      <td>...</td>\n",
              "      <td>0.06</td>\n",
              "      <td>0.05</td>\n",
              "      <td>0.06</td>\n",
              "      <td>0.01</td>\n",
              "      <td>0.0</td>\n",
              "      <td>0.0</td>\n",
              "      <td>b'normal.'</td>\n",
              "      <td>0.0</td>\n",
              "      <td>1.0</td>\n",
              "      <td>0.0</td>\n",
              "    </tr>\n",
              "    <tr>\n",
              "      <th>494019</th>\n",
              "      <td>0</td>\n",
              "      <td>b'tcp'</td>\n",
              "      <td>b'http'</td>\n",
              "      <td>b'SF'</td>\n",
              "      <td>291</td>\n",
              "      <td>1200</td>\n",
              "      <td>0</td>\n",
              "      <td>0</td>\n",
              "      <td>0</td>\n",
              "      <td>0</td>\n",
              "      <td>...</td>\n",
              "      <td>0.04</td>\n",
              "      <td>0.05</td>\n",
              "      <td>0.04</td>\n",
              "      <td>0.01</td>\n",
              "      <td>0.0</td>\n",
              "      <td>0.0</td>\n",
              "      <td>b'normal.'</td>\n",
              "      <td>0.0</td>\n",
              "      <td>1.0</td>\n",
              "      <td>0.0</td>\n",
              "    </tr>\n",
              "    <tr>\n",
              "      <th>494020</th>\n",
              "      <td>0</td>\n",
              "      <td>b'tcp'</td>\n",
              "      <td>b'http'</td>\n",
              "      <td>b'SF'</td>\n",
              "      <td>219</td>\n",
              "      <td>1234</td>\n",
              "      <td>0</td>\n",
              "      <td>0</td>\n",
              "      <td>0</td>\n",
              "      <td>0</td>\n",
              "      <td>...</td>\n",
              "      <td>0.17</td>\n",
              "      <td>0.05</td>\n",
              "      <td>0.0</td>\n",
              "      <td>0.01</td>\n",
              "      <td>0.0</td>\n",
              "      <td>0.0</td>\n",
              "      <td>b'normal.'</td>\n",
              "      <td>0.0</td>\n",
              "      <td>1.0</td>\n",
              "      <td>0.0</td>\n",
              "    </tr>\n",
              "  </tbody>\n",
              "</table>\n",
              "<p>494021 rows × 45 columns</p>\n",
              "</div>"
            ],
            "text/plain": [
              "       duration protocol_type  service   flag src_bytes dst_bytes land  \\\n",
              "0             0        b'tcp'  b'http'  b'SF'       181      5450    0   \n",
              "1             0        b'tcp'  b'http'  b'SF'       239       486    0   \n",
              "2             0        b'tcp'  b'http'  b'SF'       235      1337    0   \n",
              "3             0        b'tcp'  b'http'  b'SF'       219      1337    0   \n",
              "4             0        b'tcp'  b'http'  b'SF'       217      2032    0   \n",
              "...         ...           ...      ...    ...       ...       ...  ...   \n",
              "494016        0        b'tcp'  b'http'  b'SF'       310      1881    0   \n",
              "494017        0        b'tcp'  b'http'  b'SF'       282      2286    0   \n",
              "494018        0        b'tcp'  b'http'  b'SF'       203      1200    0   \n",
              "494019        0        b'tcp'  b'http'  b'SF'       291      1200    0   \n",
              "494020        0        b'tcp'  b'http'  b'SF'       219      1234    0   \n",
              "\n",
              "       wrong_fragment urgent hot  ... dst_host_same_src_port_rate  \\\n",
              "0                   0      0   0  ...                        0.11   \n",
              "1                   0      0   0  ...                        0.05   \n",
              "2                   0      0   0  ...                        0.03   \n",
              "3                   0      0   0  ...                        0.03   \n",
              "4                   0      0   0  ...                        0.02   \n",
              "...               ...    ...  ..  ...                         ...   \n",
              "494016              0      0   0  ...                        0.01   \n",
              "494017              0      0   0  ...                        0.17   \n",
              "494018              0      0   0  ...                        0.06   \n",
              "494019              0      0   0  ...                        0.04   \n",
              "494020              0      0   0  ...                        0.17   \n",
              "\n",
              "       dst_host_srv_diff_host_rate dst_host_serror_rate  \\\n",
              "0                              0.0                  0.0   \n",
              "1                              0.0                  0.0   \n",
              "2                              0.0                  0.0   \n",
              "3                              0.0                  0.0   \n",
              "4                              0.0                  0.0   \n",
              "...                            ...                  ...   \n",
              "494016                        0.05                  0.0   \n",
              "494017                        0.05                  0.0   \n",
              "494018                        0.05                 0.06   \n",
              "494019                        0.05                 0.04   \n",
              "494020                        0.05                  0.0   \n",
              "\n",
              "       dst_host_srv_serror_rate dst_host_rerror_rate dst_host_srv_rerror_rate  \\\n",
              "0                           0.0                  0.0                      0.0   \n",
              "1                           0.0                  0.0                      0.0   \n",
              "2                           0.0                  0.0                      0.0   \n",
              "3                           0.0                  0.0                      0.0   \n",
              "4                           0.0                  0.0                      0.0   \n",
              "...                         ...                  ...                      ...   \n",
              "494016                     0.01                  0.0                      0.0   \n",
              "494017                     0.01                  0.0                      0.0   \n",
              "494018                     0.01                  0.0                      0.0   \n",
              "494019                     0.01                  0.0                      0.0   \n",
              "494020                     0.01                  0.0                      0.0   \n",
              "\n",
              "            labels protocol_type_b'icmp' protocol_type_b'tcp'  \\\n",
              "0       b'normal.'                   0.0                  1.0   \n",
              "1       b'normal.'                   0.0                  1.0   \n",
              "2       b'normal.'                   0.0                  1.0   \n",
              "3       b'normal.'                   0.0                  1.0   \n",
              "4       b'normal.'                   0.0                  1.0   \n",
              "...            ...                   ...                  ...   \n",
              "494016  b'normal.'                   0.0                  1.0   \n",
              "494017  b'normal.'                   0.0                  1.0   \n",
              "494018  b'normal.'                   0.0                  1.0   \n",
              "494019  b'normal.'                   0.0                  1.0   \n",
              "494020  b'normal.'                   0.0                  1.0   \n",
              "\n",
              "       protocol_type_b'udp'  \n",
              "0                       0.0  \n",
              "1                       0.0  \n",
              "2                       0.0  \n",
              "3                       0.0  \n",
              "4                       0.0  \n",
              "...                     ...  \n",
              "494016                  0.0  \n",
              "494017                  0.0  \n",
              "494018                  0.0  \n",
              "494019                  0.0  \n",
              "494020                  0.0  \n",
              "\n",
              "[494021 rows x 45 columns]"
            ]
          },
          "execution_count": 11,
          "metadata": {},
          "output_type": "execute_result"
        }
      ],
      "source": [
        "data"
      ]
    },
    {
      "cell_type": "markdown",
      "metadata": {},
      "source": [
        "Oczywiście powinniśmy naszą ramkę dodatkowo zmodyfikować przed użyciem jej w modelu - należałoby usunąć pierwotną kolumnę, o ile jesteśmy zadowoleni z wyniku. Warto używać `deepcopy` w celu skopiowania pierwotnej ramki danych i dopiero na tej kompii dokonowyać zmian, aby przez przypadek nie utracich ważnych dla nas danych."
      ]
    },
    {
      "cell_type": "markdown",
      "metadata": {
        "id": "swpey_wiyEMf"
      },
      "source": [
        "## Skalowanie i transformacja atrybutów liczbowych"
      ]
    },
    {
      "cell_type": "markdown",
      "metadata": {
        "id": "El6FAL-0-X05"
      },
      "source": [
        "Wiele algorytmów uczących się źle radzi sobie podczas pracy z atrybutami numerycznymi, których wartości mieszczą się w różnych skalach (np. 0-1 oraz 4-290). Istnieją jednak metody sprawnie umożliwiające transformację wartości w atrybutach do ujednoliconego zakresu."
      ]
    },
    {
      "cell_type": "markdown",
      "metadata": {
        "id": "Xmm6dLChA-nJ"
      },
      "source": [
        "Jednym z najpopularniejszych podejść do skalowania atrybutów liczbowych jest normalizacja (skalowanie min-madata['MedInc']), które polega na umieszczeniu wszystkich wartości w wyznaczonym zakresie (np. 0-1): $data['MedInc']' = \\frac{x - min(x)}{max(x) - min(x)}$\n",
        "\n",
        "W bibliotece `Scikit-learn` do normalizacji służy klasa `MinMaxScaler` zawarta w module `preprocessing`, gdzie można wskazać oczekiwany zakres. Tutaj również zasotosujemy metodę `fit_transform()`."
      ]
    },
    {
      "cell_type": "code",
      "execution_count": 40,
      "metadata": {
        "id": "Ul095kspyAPz"
      },
      "outputs": [],
      "source": [
        "from sklearn.preprocessing import MinMaxScaler\n",
        "\n",
        "scaler = MinMaxScaler(feature_range=(-1, 1))\n",
        "src_bytes_scaled = scaler.fit_transform(data[['src_bytes']])"
      ]
    },
    {
      "cell_type": "code",
      "execution_count": 41,
      "metadata": {
        "colab": {
          "base_uri": "https://localhost:8080/"
        },
        "id": "yBqi1M98DSwk",
        "outputId": "6beb8f0d-2491-4406-d23f-eb427eef6f38"
      },
      "outputs": [
        {
          "data": {
            "text/plain": [
              "array([[-0.99999948],\n",
              "       [-0.99999931],\n",
              "       [-0.99999932],\n",
              "       ...,\n",
              "       [-0.99999941],\n",
              "       [-0.99999916],\n",
              "       [-0.99999937]])"
            ]
          },
          "execution_count": 41,
          "metadata": {},
          "output_type": "execute_result"
        }
      ],
      "source": [
        "src_bytes_scaled"
      ]
    },
    {
      "cell_type": "code",
      "execution_count": 42,
      "metadata": {
        "colab": {
          "base_uri": "https://localhost:8080/"
        },
        "id": "7d6b6nCmDZDc",
        "outputId": "c7b8cb35-744e-44bd-cc61-d8b40141d949"
      },
      "outputs": [
        {
          "data": {
            "text/plain": [
              "(0.9999999999999998, -1.0)"
            ]
          },
          "execution_count": 42,
          "metadata": {},
          "output_type": "execute_result"
        }
      ],
      "source": [
        "src_bytes_scaled.max(), src_bytes_scaled.min()"
      ]
    },
    {
      "cell_type": "markdown",
      "metadata": {
        "id": "eYNSVHSXDq7p"
      },
      "source": [
        "Standaryzacja to proces polegający na wyśrodkowaniu danych oraz zachowaniu wskazanych parametrów dotyczących rozrzutu wartości: $x' = \\frac{x - u}{s}$, gdzie $u$ - średnia arytmetyczna, $s$ - odchylenie standardowe. W bibliotece `Scikit-learn` do standaryzacji służy klasa `StandardScaler` zawarta w module `preprocessing`.\n",
        "\n",
        "`StandardScaler` standaryzuje dane, przekształcając je tak, aby miały *średnią* = 0 i *odchylenie standardowe* = 1. Oznacza to, że wartości cech są przeskalowane w oparciu o ich rozkład, bez ustalania minimalnych i maksymalnych wartości."
      ]
    },
    {
      "cell_type": "code",
      "execution_count": 15,
      "metadata": {
        "id": "2dqXGmlsDcpC"
      },
      "outputs": [],
      "source": [
        "from sklearn.preprocessing import StandardScaler\n",
        "\n",
        "scaler = StandardScaler()\n",
        "dst_bytes_scaled = scaler.fit_transform(data[['dst_bytes']])"
      ]
    },
    {
      "cell_type": "code",
      "execution_count": 16,
      "metadata": {
        "colab": {
          "base_uri": "https://localhost:8080/"
        },
        "id": "AKgOea0MEmH_",
        "outputId": "e44d8481-7229-49bc-d9d9-40bceffe3661"
      },
      "outputs": [
        {
          "data": {
            "text/plain": [
              "array([[ 0.13866441],\n",
              "       [-0.01157787],\n",
              "       [ 0.01417881],\n",
              "       ...,\n",
              "       [ 0.01003232],\n",
              "       [ 0.01003232],\n",
              "       [ 0.01106138]])"
            ]
          },
          "execution_count": 16,
          "metadata": {},
          "output_type": "execute_result"
        }
      ],
      "source": [
        "dst_bytes_scaled"
      ]
    },
    {
      "cell_type": "markdown",
      "metadata": {
        "id": "Sce6ZEC3HDCE"
      },
      "source": [
        "Gdzie i kiedy stosować normalizację i standaryzację? Zwykle metody dopasowywane są eksperymentalnie. Warto mieć jednak na uwadze, że stadaryzacja jest czuła na wartości odstające, co może wpływać na różnice w zakresie wartości atrybutów. Można jednak pokusić sie o porównanie:"
      ]
    },
    {
      "cell_type": "markdown",
      "metadata": {},
      "source": [
        "### 1. **`StandardScaler`** – Standaryzacja\n",
        "`StandardScaler` standaryzuje dane, przekształcając je tak, aby miały **średnią 0** i **odchylenie standardowe 1**. Oznacza to, że wartości cech są przeskalowane w oparciu o ich rozkład, bez ustalania minimalnych i maksymalnych wartości.\n",
        "\n",
        "**Zastosowanie:**\n",
        "- Przydaje się w modelach, które zakładają, że dane są rozkładane w przybliżeniu normalnie (np. modele liniowe, SVM, k-Nearest Neighbors, sieci neuronowe).\n",
        "- Modele takie jak **regresja liniowa** czy **SVM** działają lepiej, gdy dane są standaryzowane, ponieważ zakładają, że cechy mają podobny rozkład.\n",
        "  \n",
        "**Charakterystyka:**\n",
        "- Po zastosowaniu, dane mają średnią 0 i odchylenie standardowe 1.\n",
        "- Przekształcenie jest symetryczne – wartości mogą przyjmować zarówno dodatnie, jak i ujemne wartości.\n",
        "  \n",
        "### 2. **`MinMaxScaler`** – Normalizacja\n",
        "`MinMaxScaler` przekształca dane w taki sposób, aby wartości cech znajdowały się w **zakresie od 0 do 1** (lub w dowolnym innym ustalonym zakresie).\n",
        "\n",
        "**Zastosowanie:**\n",
        "- Idealny, gdy potrzebujesz znormalizować dane do określonego zakresu, na przykład do modelów opartych na **odległościach** (np. k-NN, SVM, sieci neuronowe), gdzie cechy o różnych skalach mogą zaburzać wyniki.\n",
        "  \n",
        "**Charakterystyka:**\n",
        "- Dane zostaną przekształcone na zakres [0, 1] (lub inny zdefiniowany przez użytkownika, np. [-1, 1]).\n",
        "- Wszystkie wartości są nieujemne (przy standardowym zakresie 0-1).\n",
        "\n",
        "### Porównanie\n",
        "\n",
        "| Cecha                     | `StandardScaler`                                  | `MinMaxScaler`                                    |\n",
        "|----------------------------|---------------------------------------------------|---------------------------------------------------|\n",
        "| **Zakres wartości**         | Średnia 0, odchylenie standardowe 1               | Wartości w zakresie [0, 1] (lub innym zdefiniowanym) |\n",
        "| **Kiedy używać**            | Modele liniowe, SVM, sieci neuronowe              | Modele oparte na odległościach, kiedy zakres ma znaczenie |\n",
        "| **Rozkład po przekształceniu** | Średnia rozkładu wynosi 0, odchylenie standardowe 1 | Wszystkie wartości mieszczą się w określonym przedziale |\n",
        "| **Dopuszcza wartości ujemne** | Tak                                              | Nie (domyślnie)                                     |\n",
        "\n",
        "### Wybór między nimi:\n",
        "- **`StandardScaler`** jest używany, gdy cechy mają różne jednostki miar, a model zakłada normalny rozkład danych.\n",
        "- **`MinMaxScaler`** jest preferowany, gdy cechy muszą być znormalizowane do określonego zakresu, np. do użytku w sieciach neuronowych, które wymagają, aby dane mieściły się w określonym przedziale (np. [0, 1] lub [-1, 1])."
      ]
    },
    {
      "cell_type": "markdown",
      "metadata": {
        "id": "4fe5YLVzISPi"
      },
      "source": [
        "## Symetria wartości numerycznych"
      ]
    },
    {
      "cell_type": "markdown",
      "metadata": {},
      "source": [
        "Wróćmy zatem do znanego już nam zestawu danych, jakim jest `california housing`. Tam nie ma zmiennych kategorialnych, ale występuje inny, ciekawy problem, na który część modeli może być wyczulona."
      ]
    },
    {
      "cell_type": "code",
      "execution_count": 17,
      "metadata": {
        "id": "M0_AZ6iiHBFA"
      },
      "outputs": [],
      "source": [
        "from sklearn.datasets import fetch_california_housing\n",
        "\n",
        "data = fetch_california_housing(as_frame=True)['frame']"
      ]
    },
    {
      "cell_type": "code",
      "execution_count": 18,
      "metadata": {
        "colab": {
          "base_uri": "https://localhost:8080/",
          "height": 419
        },
        "id": "FaCm7WsPImWI",
        "outputId": "c23a26f0-a229-47da-a199-3e9fd8416f99"
      },
      "outputs": [
        {
          "data": {
            "text/html": [
              "<div>\n",
              "<style scoped>\n",
              "    .dataframe tbody tr th:only-of-type {\n",
              "        vertical-align: middle;\n",
              "    }\n",
              "\n",
              "    .dataframe tbody tr th {\n",
              "        vertical-align: top;\n",
              "    }\n",
              "\n",
              "    .dataframe thead th {\n",
              "        text-align: right;\n",
              "    }\n",
              "</style>\n",
              "<table border=\"1\" class=\"dataframe\">\n",
              "  <thead>\n",
              "    <tr style=\"text-align: right;\">\n",
              "      <th></th>\n",
              "      <th>MedInc</th>\n",
              "      <th>HouseAge</th>\n",
              "      <th>AveRooms</th>\n",
              "      <th>AveBedrms</th>\n",
              "      <th>Population</th>\n",
              "      <th>AveOccup</th>\n",
              "      <th>Latitude</th>\n",
              "      <th>Longitude</th>\n",
              "      <th>MedHouseVal</th>\n",
              "    </tr>\n",
              "  </thead>\n",
              "  <tbody>\n",
              "    <tr>\n",
              "      <th>0</th>\n",
              "      <td>8.3252</td>\n",
              "      <td>41.0</td>\n",
              "      <td>6.984127</td>\n",
              "      <td>1.023810</td>\n",
              "      <td>322.0</td>\n",
              "      <td>2.555556</td>\n",
              "      <td>37.88</td>\n",
              "      <td>-122.23</td>\n",
              "      <td>4.526</td>\n",
              "    </tr>\n",
              "    <tr>\n",
              "      <th>1</th>\n",
              "      <td>8.3014</td>\n",
              "      <td>21.0</td>\n",
              "      <td>6.238137</td>\n",
              "      <td>0.971880</td>\n",
              "      <td>2401.0</td>\n",
              "      <td>2.109842</td>\n",
              "      <td>37.86</td>\n",
              "      <td>-122.22</td>\n",
              "      <td>3.585</td>\n",
              "    </tr>\n",
              "    <tr>\n",
              "      <th>2</th>\n",
              "      <td>7.2574</td>\n",
              "      <td>52.0</td>\n",
              "      <td>8.288136</td>\n",
              "      <td>1.073446</td>\n",
              "      <td>496.0</td>\n",
              "      <td>2.802260</td>\n",
              "      <td>37.85</td>\n",
              "      <td>-122.24</td>\n",
              "      <td>3.521</td>\n",
              "    </tr>\n",
              "    <tr>\n",
              "      <th>3</th>\n",
              "      <td>5.6431</td>\n",
              "      <td>52.0</td>\n",
              "      <td>5.817352</td>\n",
              "      <td>1.073059</td>\n",
              "      <td>558.0</td>\n",
              "      <td>2.547945</td>\n",
              "      <td>37.85</td>\n",
              "      <td>-122.25</td>\n",
              "      <td>3.413</td>\n",
              "    </tr>\n",
              "    <tr>\n",
              "      <th>4</th>\n",
              "      <td>3.8462</td>\n",
              "      <td>52.0</td>\n",
              "      <td>6.281853</td>\n",
              "      <td>1.081081</td>\n",
              "      <td>565.0</td>\n",
              "      <td>2.181467</td>\n",
              "      <td>37.85</td>\n",
              "      <td>-122.25</td>\n",
              "      <td>3.422</td>\n",
              "    </tr>\n",
              "    <tr>\n",
              "      <th>...</th>\n",
              "      <td>...</td>\n",
              "      <td>...</td>\n",
              "      <td>...</td>\n",
              "      <td>...</td>\n",
              "      <td>...</td>\n",
              "      <td>...</td>\n",
              "      <td>...</td>\n",
              "      <td>...</td>\n",
              "      <td>...</td>\n",
              "    </tr>\n",
              "    <tr>\n",
              "      <th>20635</th>\n",
              "      <td>1.5603</td>\n",
              "      <td>25.0</td>\n",
              "      <td>5.045455</td>\n",
              "      <td>1.133333</td>\n",
              "      <td>845.0</td>\n",
              "      <td>2.560606</td>\n",
              "      <td>39.48</td>\n",
              "      <td>-121.09</td>\n",
              "      <td>0.781</td>\n",
              "    </tr>\n",
              "    <tr>\n",
              "      <th>20636</th>\n",
              "      <td>2.5568</td>\n",
              "      <td>18.0</td>\n",
              "      <td>6.114035</td>\n",
              "      <td>1.315789</td>\n",
              "      <td>356.0</td>\n",
              "      <td>3.122807</td>\n",
              "      <td>39.49</td>\n",
              "      <td>-121.21</td>\n",
              "      <td>0.771</td>\n",
              "    </tr>\n",
              "    <tr>\n",
              "      <th>20637</th>\n",
              "      <td>1.7000</td>\n",
              "      <td>17.0</td>\n",
              "      <td>5.205543</td>\n",
              "      <td>1.120092</td>\n",
              "      <td>1007.0</td>\n",
              "      <td>2.325635</td>\n",
              "      <td>39.43</td>\n",
              "      <td>-121.22</td>\n",
              "      <td>0.923</td>\n",
              "    </tr>\n",
              "    <tr>\n",
              "      <th>20638</th>\n",
              "      <td>1.8672</td>\n",
              "      <td>18.0</td>\n",
              "      <td>5.329513</td>\n",
              "      <td>1.171920</td>\n",
              "      <td>741.0</td>\n",
              "      <td>2.123209</td>\n",
              "      <td>39.43</td>\n",
              "      <td>-121.32</td>\n",
              "      <td>0.847</td>\n",
              "    </tr>\n",
              "    <tr>\n",
              "      <th>20639</th>\n",
              "      <td>2.3886</td>\n",
              "      <td>16.0</td>\n",
              "      <td>5.254717</td>\n",
              "      <td>1.162264</td>\n",
              "      <td>1387.0</td>\n",
              "      <td>2.616981</td>\n",
              "      <td>39.37</td>\n",
              "      <td>-121.24</td>\n",
              "      <td>0.894</td>\n",
              "    </tr>\n",
              "  </tbody>\n",
              "</table>\n",
              "<p>20640 rows × 9 columns</p>\n",
              "</div>"
            ],
            "text/plain": [
              "       MedInc  HouseAge  AveRooms  AveBedrms  Population  AveOccup  Latitude  \\\n",
              "0      8.3252      41.0  6.984127   1.023810       322.0  2.555556     37.88   \n",
              "1      8.3014      21.0  6.238137   0.971880      2401.0  2.109842     37.86   \n",
              "2      7.2574      52.0  8.288136   1.073446       496.0  2.802260     37.85   \n",
              "3      5.6431      52.0  5.817352   1.073059       558.0  2.547945     37.85   \n",
              "4      3.8462      52.0  6.281853   1.081081       565.0  2.181467     37.85   \n",
              "...       ...       ...       ...        ...         ...       ...       ...   \n",
              "20635  1.5603      25.0  5.045455   1.133333       845.0  2.560606     39.48   \n",
              "20636  2.5568      18.0  6.114035   1.315789       356.0  3.122807     39.49   \n",
              "20637  1.7000      17.0  5.205543   1.120092      1007.0  2.325635     39.43   \n",
              "20638  1.8672      18.0  5.329513   1.171920       741.0  2.123209     39.43   \n",
              "20639  2.3886      16.0  5.254717   1.162264      1387.0  2.616981     39.37   \n",
              "\n",
              "       Longitude  MedHouseVal  \n",
              "0        -122.23        4.526  \n",
              "1        -122.22        3.585  \n",
              "2        -122.24        3.521  \n",
              "3        -122.25        3.413  \n",
              "4        -122.25        3.422  \n",
              "...          ...          ...  \n",
              "20635    -121.09        0.781  \n",
              "20636    -121.21        0.771  \n",
              "20637    -121.22        0.923  \n",
              "20638    -121.32        0.847  \n",
              "20639    -121.24        0.894  \n",
              "\n",
              "[20640 rows x 9 columns]"
            ]
          },
          "execution_count": 18,
          "metadata": {},
          "output_type": "execute_result"
        }
      ],
      "source": [
        "data"
      ]
    },
    {
      "cell_type": "markdown",
      "metadata": {
        "id": "nUOiGMQwIUzq"
      },
      "source": [
        "W pewnych przypadkach histogramy atrybutów numerycznych potrafią być asymetryczne."
      ]
    },
    {
      "cell_type": "code",
      "execution_count": 19,
      "metadata": {
        "colab": {
          "base_uri": "https://localhost:8080/",
          "height": 447
        },
        "id": "hqX27hI9JLeE",
        "outputId": "f6795b51-84eb-4ed8-e21c-6691b6bb84f9"
      },
      "outputs": [
        {
          "data": {
            "text/plain": [
              "<Axes: >"
            ]
          },
          "execution_count": 19,
          "metadata": {},
          "output_type": "execute_result"
        },
        {
          "data": {
            "image/png": "[encoded data removed]",
            "text/plain": [
              "<Figure size 640x480 with 1 Axes>"
            ]
          },
          "metadata": {},
          "output_type": "display_data"
        }
      ],
      "source": [
        "data['MedInc'].hist(bins=100)"
      ]
    },
    {
      "cell_type": "markdown",
      "metadata": {
        "id": "io8UOO3sJUUk"
      },
      "source": [
        "Powyższy histogram jest prawoskośny, co oznacza że jego asymetria jest spowodowana nasileniem występowania wartości występujących po lewej stronie histogramu. Analogicznie wygląda sytuacja w przypadku lewoskośności. Rozwiązaniem tego problemu może być zastosowanie skali logarytmicznej lub pierwiastkowej. Zobaczmy jak następujący wykres by wyglądał dla danych w skali pierwiastkowej:"
      ]
    },
    {
      "cell_type": "code",
      "execution_count": 20,
      "metadata": {
        "id": "RPTb8LmuKD_2"
      },
      "outputs": [],
      "source": [
        "import numpy as np"
      ]
    },
    {
      "cell_type": "code",
      "execution_count": 21,
      "metadata": {
        "colab": {
          "base_uri": "https://localhost:8080/",
          "height": 447
        },
        "id": "HgwduKwzJSUx",
        "outputId": "c93fdf96-e394-42c7-cc31-ae0da00b35bd"
      },
      "outputs": [
        {
          "data": {
            "text/plain": [
              "<Axes: >"
            ]
          },
          "execution_count": 21,
          "metadata": {},
          "output_type": "execute_result"
        },
        {
          "data": {
            "image/png": "[encoded data removed]",
            "text/plain": [
              "<Figure size 640x480 with 1 Axes>"
            ]
          },
          "metadata": {},
          "output_type": "display_data"
        }
      ],
      "source": [
        "np.sqrt(data['MedInc']).hist(bins=100)"
      ]
    },
    {
      "cell_type": "markdown",
      "metadata": {},
      "source": [
        "oraz logarytmicznej:"
      ]
    },
    {
      "cell_type": "code",
      "execution_count": 22,
      "metadata": {
        "colab": {
          "base_uri": "https://localhost:8080/",
          "height": 447
        },
        "id": "cLCquRk9Jxq8",
        "outputId": "eb8c55dd-adc8-444e-c915-3bdc2c7cfb0a"
      },
      "outputs": [
        {
          "data": {
            "text/plain": [
              "<Axes: >"
            ]
          },
          "execution_count": 22,
          "metadata": {},
          "output_type": "execute_result"
        },
        {
          "data": {
            "image/png": "[encoded data removed]",
            "text/plain": [
              "<Figure size 640x480 with 1 Axes>"
            ]
          },
          "metadata": {},
          "output_type": "display_data"
        }
      ],
      "source": [
        "np.log(data['MedInc']).hist(bins=100)"
      ]
    },
    {
      "cell_type": "markdown",
      "metadata": {},
      "source": [
        "### Inne przykłady transformacji, które mogą zapodziałać asymetrii"
      ]
    },
    {
      "cell_type": "markdown",
      "metadata": {},
      "source": [
        "### 1. Reciprocal Transformation\n",
        "\n",
        "Transformacja odwrotna polega na zamianie wartości cechy `X` na odwrotność ( $\\frac{1}{X}$ ). Działa najlepiej na danych, które mają dodatnią asymetrię (skewness), czyli \"długi ogon\" po prawej stronie rozkładu.\n",
        "\n",
        "**Formuła:**\n",
        "$\n",
        "X_{\\text{transformed}} = \\frac{1}{X}\n",
        "$\n",
        "Uwaga: wartość `X` nie może być równa 0, więc trzeba wcześniej odpowiednio przekształcić dane.\n"
      ]
    },
    {
      "cell_type": "code",
      "execution_count": 23,
      "metadata": {},
      "outputs": [
        {
          "data": {
            "text/plain": [
              "<Axes: >"
            ]
          },
          "execution_count": 23,
          "metadata": {},
          "output_type": "execute_result"
        },
        {
          "data": {
            "image/png": "[encoded data removed]",
            "text/plain": [
              "<Figure size 640x480 with 1 Axes>"
            ]
          },
          "metadata": {},
          "output_type": "display_data"
        }
      ],
      "source": [
        "(1 / data['MedInc']).hist(bins=100)"
      ]
    },
    {
      "cell_type": "markdown",
      "metadata": {},
      "source": [
        "### 2. Yeo-Johnson Transformation\n",
        "\n",
        "Transformacja Yeo-Johnson jest rozszerzeniem Box-Cox, która może być stosowana na danych zarówno dodatnich, jak i ujemnych. Jest szczególnie przydatna, gdy dane zawierają wartości zero lub ujemne.\n",
        "\n",
        "**Formuła Yeo-Johnson:**\n",
        "Zmienna transformowana zależna od wartości ( X ), uwzględniając różne przypadki (dla $( X \\geq 0 ) i ( X < 0 )$).\n"
      ]
    },
    {
      "cell_type": "code",
      "execution_count": 24,
      "metadata": {},
      "outputs": [
        {
          "data": {
            "text/plain": [
              "array([[<Axes: title={'center': '0'}>]], dtype=object)"
            ]
          },
          "execution_count": 24,
          "metadata": {},
          "output_type": "execute_result"
        },
        {
          "data": {
            "image/png": "[encoded data removed]",
            "text/plain": [
              "<Figure size 640x480 with 1 Axes>"
            ]
          },
          "metadata": {},
          "output_type": "display_data"
        }
      ],
      "source": [
        "from sklearn.preprocessing import PowerTransformer\n",
        "\n",
        "pt = PowerTransformer(method='yeo-johnson')\n",
        "pd.DataFrame(pt.fit_transform(data['MedInc'].values.reshape(-1, 1))).hist(bins=100)"
      ]
    },
    {
      "cell_type": "markdown",
      "metadata": {},
      "source": [
        "### 3. Box-Cox Transformation\n",
        "\n",
        "Transformacja Box-Cox to specyficzny przypadek transformacji potęgowej, który działa tylko na danych dodatnich. Jej celem jest przekształcenie zmiennych o dodatniej asymetrii w bardziej symetryczne rozkłady.\n",
        "\n",
        "**Formuła Box-Cox:**\n",
        "$\n",
        "X_{\\text{transformed}} = \\frac{X^{\\lambda} - 1}{\\lambda}\n",
        "$\n",
        "jeśli $( \\lambda \\neq 0 )$, w przeciwnym razie $( X_{\\text{transformed}} = \\ln(X) )$.\n"
      ]
    },
    {
      "cell_type": "code",
      "execution_count": 25,
      "metadata": {},
      "outputs": [
        {
          "data": {
            "text/plain": [
              "array([[<Axes: title={'center': '0'}>]], dtype=object)"
            ]
          },
          "execution_count": 25,
          "metadata": {},
          "output_type": "execute_result"
        },
        {
          "data": {
            "image/png": "[encoded data removed]",
            "text/plain": [
              "<Figure size 640x480 with 1 Axes>"
            ]
          },
          "metadata": {},
          "output_type": "display_data"
        }
      ],
      "source": [
        "from scipy import stats\n",
        "\n",
        "pd.DataFrame(stats.boxcox(data['MedInc'])[0]).hist(bins=100)"
      ]
    },
    {
      "cell_type": "markdown",
      "metadata": {},
      "source": [
        "### 4. Winsorization\n",
        "\n",
        "Winsoryzacja to metoda zmniejszania asymetrii danych poprzez ograniczenie skrajnych wartości (outliers). Zamiast obcinać wartości, zmienia się je na określone percentyle, co zmniejsza wpływ ekstremów.\n"
      ]
    },
    {
      "cell_type": "code",
      "execution_count": 26,
      "metadata": {},
      "outputs": [
        {
          "data": {
            "text/plain": [
              "array([[<Axes: title={'center': '0'}>]], dtype=object)"
            ]
          },
          "execution_count": 26,
          "metadata": {},
          "output_type": "execute_result"
        },
        {
          "data": {
            "image/png": "[encoded data removed]",
            "text/plain": [
              "<Figure size 640x480 with 1 Axes>"
            ]
          },
          "metadata": {},
          "output_type": "display_data"
        }
      ],
      "source": [
        "from scipy.stats import mstats\n",
        "\n",
        "pd.DataFrame(mstats.winsorize(data['MedInc'], limits=[0.05, 0.05])).hist(bins=100)"
      ]
    },
    {
      "cell_type": "markdown",
      "metadata": {},
      "source": [
        "### 5. Trimming (5-95 percentile)\n",
        "\n",
        "Trimming polega na usunięciu pewnego procentu najbardziej skrajnych wartości z danych, co pomaga zredukować asymetrię, szczególnie w przypadku danych z dużą liczbą outliers."
      ]
    },
    {
      "cell_type": "code",
      "execution_count": 27,
      "metadata": {},
      "outputs": [
        {
          "data": {
            "text/plain": [
              "<Axes: >"
            ]
          },
          "execution_count": 27,
          "metadata": {},
          "output_type": "execute_result"
        },
        {
          "data": {
            "image/png": "[encoded data removed]",
            "text/plain": [
              "<Figure size 640x480 with 1 Axes>"
            ]
          },
          "metadata": {},
          "output_type": "display_data"
        }
      ],
      "source": [
        "data['MedInc'][(data['MedInc'] >= np.percentile(data['MedInc'], 5)) & (data['MedInc'] <= np.percentile(data['MedInc'], 95))].hist(bins=100)"
      ]
    },
    {
      "cell_type": "markdown",
      "metadata": {},
      "source": [
        "### 6. Reflect Transformation\n",
        "\n",
        "W niektórych przypadkach można odwrócić asymetrię przez przekształcenie danych w taki sposób, że dane o ujemnej asymetrii stają się bardziej symetryczne, np. przez przekształcenie ich na postać \\( -X \\)."
      ]
    },
    {
      "cell_type": "code",
      "execution_count": 28,
      "metadata": {},
      "outputs": [
        {
          "data": {
            "text/plain": [
              "<Axes: >"
            ]
          },
          "execution_count": 28,
          "metadata": {},
          "output_type": "execute_result"
        },
        {
          "data": {
            "image/png": "[encoded data removed]",
            "text/plain": [
              "<Figure size 640x480 with 1 Axes>"
            ]
          },
          "metadata": {},
          "output_type": "display_data"
        }
      ],
      "source": [
        "(-data['MedInc']).hist(bins=100)"
      ]
    },
    {
      "cell_type": "markdown",
      "metadata": {
        "id": "aknGiOy4Ma-0"
      },
      "source": [
        "## Zadania\n",
        "\n",
        "1. Pobrać i wczytać zbiór danych danych dostępny pod adresem: https://archive.ics.uci.edu/dataset/10/automobile. Można już za pomocą python i biblioteki `ucimlrepo`.\n",
        "\n",
        "2. Usunąć wiersze ze zbioru danych, w których występują wartości wybrakowane.\n",
        "\n",
        "3. Dokonać zamiany wartości tekstowych na numeryczne przy użyciu dwóch poznanych metod, usuwając oryginalny atrybut.\n",
        "\n",
        "4. Dla atrybutów numerycznych, których wartości prezentują lewo- lub prawoskośność, zastosować poznane metody poprawy symetrii. Można zastosować dowolne rozwiązania (nie tylko logarytm i pierwiastek), do uzyskania finalnego rozwiązania warto zastosować jedno rozwiązanie, które zapewnia najbardziej zauważalny efekt na histogramie wynikowym.\n",
        "\n",
        "5. Dokonać normalizacji lub standaryzacji atrybutów numerycznych. Wartości w atrybutach numerycznych powinny w tym celu zostać zamienione na nowe (przetransformowane)."
      ]
    }
  ],
  "metadata": {
    "colab": {
      "provenance": []
    },
    "kernelspec": {
      "display_name": "Python 3 (ipykernel)",
      "language": "python",
      "name": "python3"
    },
    "language_info": {
      "codemirror_mode": {
        "name": "ipython",
        "version": 3
      },
      "file_extension": ".py",
      "mimetype": "text/x-python",
      "name": "python",
      "nbconvert_exporter": "python",
      "pygments_lexer": "ipython3",
      "version": "3.10.11"
    }
  },
  "nbformat": 4,
  "nbformat_minor": 0
}
